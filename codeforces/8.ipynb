{
 "cells": [
  {
   "cell_type": "code",
   "execution_count": 11,
   "metadata": {},
   "outputs": [
    {
     "name": "stdout",
     "output_type": "stream",
     "text": [
      "YES\n"
     ]
    }
   ],
   "source": [
    "def finddangerous(mystr):\n",
    "    i=0\n",
    "    ans1=0\n",
    "    ans0=0\n",
    "    while i<len(mystr):\n",
    "        \n",
    "        if i<len(mystr) and mystr[i]=='1':\n",
    "            c1=1\n",
    "            i+=1\n",
    "            while i<len(mystr) and mystr[i]=='1':\n",
    "                c1+=1\n",
    "                i+=1\n",
    "            \n",
    "            ans1=max(ans1,c1)\n",
    "            \n",
    "            \n",
    "            \n",
    "        elif i<len(mystr) and mystr[i]=='0':\n",
    "            c0=1\n",
    "            i+=1\n",
    "            while i<len(mystr) and mystr[i]=='0':\n",
    "                c0+=1\n",
    "                i+=1\n",
    "            \n",
    "            ans0=max(ans0,c0)\n",
    "        \n",
    "    \n",
    "    if ans0>=7 or ans1>=7:\n",
    "        print(\"YES\")\n",
    "    \n",
    "    else:\n",
    "        print(\"NO\")\n",
    "            \n",
    "            \n",
    "finddangerous(\"1000000001\")        \n",
    "        \n",
    "        \n",
    "        \n",
    "        \n",
    "        \n",
    "        \n",
    "        \n",
    "        \n",
    "            "
   ]
  },
  {
   "cell_type": "code",
   "execution_count": 15,
   "metadata": {},
   "outputs": [
    {
     "name": "stdout",
     "output_type": "stream",
     "text": [
      "Abc\n",
      "abc\n",
      "0\n"
     ]
    }
   ],
   "source": [
    "s1=input().lower()\n",
    "s2=input().lower()\n",
    "\n",
    "if s1<s2:\n",
    "    print(\"-1\")\n",
    "elif s1>s2:\n",
    "    print(\"1\")\n",
    "else:\n",
    "    print(\"0\")"
   ]
  },
  {
   "cell_type": "code",
   "execution_count": 22,
   "metadata": {},
   "outputs": [
    {
     "name": "stdout",
     "output_type": "stream",
     "text": [
      "3+2+1\n",
      "1+2+3\n"
     ]
    }
   ],
   "source": [
    "mystr=input().split(\"+\")\n",
    "\n",
    "#print(mystr)\n",
    "mystr.sort()\n",
    "newstr=\"\"\n",
    "newstr+=mystr[0]\n",
    "\n",
    "for ch in mystr[1:]:\n",
    "    newstr+=\"+\"\n",
    "    newstr+=ch\n",
    "    \n",
    "\n",
    "#del newstr[len(mystr)-1]\n",
    "print(newstr)"
   ]
  },
  {
   "cell_type": "code",
   "execution_count": 24,
   "metadata": {},
   "outputs": [
    {
     "name": "stdout",
     "output_type": "stream",
     "text": [
      "Apple\n",
      "Apple\n"
     ]
    }
   ],
   "source": [
    "mystr=input()\n",
    "newstr=\"\"\n",
    "newstr+=mystr[0].upper()\n",
    "for ch in mystr[1:]:\n",
    "    newstr+=ch\n",
    "\n",
    "print(newstr)"
   ]
  },
  {
   "cell_type": "code",
   "execution_count": 29,
   "metadata": {},
   "outputs": [
    {
     "name": "stdout",
     "output_type": "stream",
     "text": [
      "BRBG\n",
      "0\n"
     ]
    }
   ],
   "source": [
    "def removestones(mystr):\n",
    "    n=len(mystr)\n",
    "    i=0\n",
    "    cr,cg,cb=0,0,0\n",
    "    while i<n:\n",
    "        if i<n and mystr[i]==\"R\":\n",
    "            i+=1\n",
    "            while i<n and mystr[i]==\"R\":\n",
    "                cr+=1\n",
    "                i+=1\n",
    "                \n",
    "        \n",
    "        if i<n and mystr[i]==\"G\":\n",
    "            i+=1\n",
    "            while i<n and mystr[i]==\"G\":\n",
    "                cg+=1\n",
    "                i+=1\n",
    "        \n",
    "        if i<n and mystr[i]==\"B\":\n",
    "            i+=1\n",
    "            while i<n and mystr[i]==\"B\":\n",
    "                cb+=1\n",
    "                i+=1\n",
    "        \n",
    "    print(cr+cb+cg)\n",
    "    \n",
    "    \n",
    "\n",
    "mystr=input()\n",
    "removestones(mystr)\n",
    "                "
   ]
  },
  {
   "cell_type": "code",
   "execution_count": 33,
   "metadata": {},
   "outputs": [],
   "source": [
    "def matrix(mat):\n",
    "    r,c=0,0\n",
    "    for i in range(5):\n",
    "        for j in range(5):\n",
    "            if mat[i][j]==1:\n",
    "                r,c=i,j\n",
    "                break\n",
    "    \n",
    "    print(abs(r-2)+abs(c-2))\n",
    "\n",
    "mat=[]\n",
    "for i in range(5):\n",
    "    row=[]\n",
    "    row=list(map(int,input().split()))\n",
    "    mat.append(row)\n",
    "\n",
    "matrix(mat)\n",
    "    \n",
    "            "
   ]
  },
  {
   "cell_type": "code",
   "execution_count": 54,
   "metadata": {},
   "outputs": [
    {
     "name": "stdout",
     "output_type": "stream",
     "text": [
      "3\n",
      "3 3 2\n",
      "[2, 3, 3]\n",
      "[3, 3]\n",
      "[3]\n",
      "[]\n",
      "3\n"
     ]
    }
   ],
   "source": [
    "\n",
    "\n",
    "def linearsearch(ar,i,n,y):\n",
    "    for j in range(i,n):\n",
    "        if ar[j]==y:\n",
    "            return j\n",
    "    \n",
    "    return -1\n",
    "\n",
    "\n",
    "n=input()\n",
    "mylist=list(map(int,input().split()))\n",
    "mylist.sort()\n",
    "#print(mylist)\n",
    "cnt=0\n",
    "i=0\n",
    "while i<len(mylist):\n",
    "    y=4-mylist[i]\n",
    "    if y==0:\n",
    "        cnt+=1\n",
    "        mylist.remove(mylist[i])\n",
    "        \n",
    "    \n",
    "    #index=binarysearch(mylist,i+1,len(mylist)-1,y)\n",
    "    index=linearsearch(mylist,i+1,len(mylist),y)\n",
    "    if index==-1:\n",
    "        cnt+=1\n",
    "        mylist.remove(mylist[i])\n",
    "        \n",
    "    else:\n",
    "        mylist.remove(mylist[i])\n",
    "        mylist.remove(y)\n",
    "        cnt+=1\n",
    "    #print(mylist)\n",
    "    \n",
    "print(cnt)\n",
    "        "
   ]
  },
  {
   "cell_type": "code",
   "execution_count": 3,
   "metadata": {},
   "outputs": [
    {
     "name": "stdout",
     "output_type": "stream",
     "text": [
      "sevenkplus\n",
      "CHAT WITH HER!\n"
     ]
    }
   ],
   "source": [
    "def checkgender(mystr):\n",
    "    \n",
    "    cntar=[0]*26\n",
    "    for ch in mystr:\n",
    "        idx=ord(ch)-ord('a')\n",
    "        cntar[idx]+=1\n",
    "    \n",
    "    cnt=0\n",
    "    for x in cntar:\n",
    "        if x!=0:\n",
    "            cnt+=1\n",
    "    \n",
    "    if int(cnt%2)==0:\n",
    "        print(\"CHAT WITH HER!\")\n",
    "    \n",
    "    else:\n",
    "        print(\"IGNORE HIM!\")\n",
    "\n",
    "        \n",
    "        \n",
    "mystr=input()\n",
    "checkgender(mystr)"
   ]
  },
  {
   "cell_type": "code",
   "execution_count": 35,
   "metadata": {},
   "outputs": [
    {
     "name": "stdout",
     "output_type": "stream",
     "text": [
      "pnnepelqomhhheollvlo\n",
      "YES\n"
     ]
    }
   ],
   "source": [
    "def linearsearch1(mylist,x,i):\n",
    "    \n",
    "    for i in range(i,len(mylist)):\n",
    "        #print(\"in for\")\n",
    "        if mylist[i]==x:\n",
    "            \n",
    "            return i\n",
    "    \n",
    "    return -1\n",
    "            \n",
    "            \n",
    "\n",
    "def checkHello(mylist):\n",
    "    mylist1=[]\n",
    "    i=0\n",
    "    for x in \"hello\":\n",
    "        #print(x)\n",
    "    \n",
    "        idx=linearsearch1(mylist,x,i)\n",
    "        if idx==-1:\n",
    "            print(\"NO\")\n",
    "            return\n",
    "        \n",
    "        i=idx+1\n",
    "        #mylist1.append(idx)\n",
    "    \n",
    "    print(\"YES\")\n",
    "    \n",
    "    \n",
    "        \n",
    "mystr=input()\n",
    "mylist=[]\n",
    "for ch in mystr:\n",
    "    mylist.append(ch)\n",
    "#print(mylist)\n",
    "checkHello(mylist)"
   ]
  },
  {
   "cell_type": "code",
   "execution_count": 30,
   "metadata": {},
   "outputs": [
    {
     "name": "stdout",
     "output_type": "stream",
     "text": [
      "78\n",
      "NO\n"
     ]
    }
   ],
   "source": [
    "def islucky(n):\n",
    "    \n",
    "    for ch in str(n):\n",
    "        \n",
    "        if ch!='4' and ch!='7':\n",
    "            return False\n",
    "    \n",
    "    \n",
    "    return True\n",
    "\n",
    "def checklucky(n):\n",
    "    for i in range(n+1):\n",
    "        \n",
    "        if islucky(i):\n",
    "            #print(i,end=\" \")\n",
    "            if n%i==0:\n",
    "                print(\"YES\")\n",
    "                return\n",
    "    \n",
    "    print(\"NO\")\n",
    "\n",
    "n=int(input())\n",
    "checklucky(n)"
   ]
  },
  {
   "cell_type": "code",
   "execution_count": null,
   "metadata": {},
   "outputs": [],
   "source": [
    "def totalmoney(k,n,w):\n",
    "    "
   ]
  }
 ],
 "metadata": {
  "kernelspec": {
   "display_name": "Python 3",
   "language": "python",
   "name": "python3"
  },
  "language_info": {
   "codemirror_mode": {
    "name": "ipython",
    "version": 3
   },
   "file_extension": ".py",
   "mimetype": "text/x-python",
   "name": "python",
   "nbconvert_exporter": "python",
   "pygments_lexer": "ipython3",
   "version": "3.7.0"
  }
 },
 "nbformat": 4,
 "nbformat_minor": 2
}
