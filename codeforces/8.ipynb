{
 "cells": [
  {
   "cell_type": "code",
   "execution_count": 11,
   "metadata": {},
   "outputs": [
    {
     "name": "stdout",
     "output_type": "stream",
     "text": [
      "YES\n"
     ]
    }
   ],
   "source": [
    "def finddangerous(mystr):\n",
    "    i=0\n",
    "    ans1=0\n",
    "    ans0=0\n",
    "    while i<len(mystr):\n",
    "        \n",
    "        if i<len(mystr) and mystr[i]=='1':\n",
    "            c1=1\n",
    "            i+=1\n",
    "            while i<len(mystr) and mystr[i]=='1':\n",
    "                c1+=1\n",
    "                i+=1\n",
    "            \n",
    "            ans1=max(ans1,c1)\n",
    "            \n",
    "            \n",
    "            \n",
    "        elif i<len(mystr) and mystr[i]=='0':\n",
    "            c0=1\n",
    "            i+=1\n",
    "            while i<len(mystr) and mystr[i]=='0':\n",
    "                c0+=1\n",
    "                i+=1\n",
    "            \n",
    "            ans0=max(ans0,c0)\n",
    "        \n",
    "    \n",
    "    if ans0>=7 or ans1>=7:\n",
    "        print(\"YES\")\n",
    "    \n",
    "    else:\n",
    "        print(\"NO\")\n",
    "            \n",
    "            \n",
    "finddangerous(\"1000000001\")        \n",
    "        \n",
    "        \n",
    "        \n",
    "        \n",
    "        \n",
    "        \n",
    "        \n",
    "        \n",
    "            "
   ]
  },
  {
   "cell_type": "code",
   "execution_count": 15,
   "metadata": {},
   "outputs": [
    {
     "name": "stdout",
     "output_type": "stream",
     "text": [
      "Abc\n",
      "abc\n",
      "0\n"
     ]
    }
   ],
   "source": [
    "s1=input().lower()\n",
    "s2=input().lower()\n",
    "\n",
    "if s1<s2:\n",
    "    print(\"-1\")\n",
    "elif s1>s2:\n",
    "    print(\"1\")\n",
    "else:\n",
    "    print(\"0\")"
   ]
  },
  {
   "cell_type": "code",
   "execution_count": 22,
   "metadata": {},
   "outputs": [
    {
     "name": "stdout",
     "output_type": "stream",
     "text": [
      "3+2+1\n",
      "1+2+3\n"
     ]
    }
   ],
   "source": [
    "mystr=input().split(\"+\")\n",
    "\n",
    "#print(mystr)\n",
    "mystr.sort()\n",
    "newstr=\"\"\n",
    "newstr+=mystr[0]\n",
    "\n",
    "for ch in mystr[1:]:\n",
    "    newstr+=\"+\"\n",
    "    newstr+=ch\n",
    "    \n",
    "\n",
    "#del newstr[len(mystr)-1]\n",
    "print(newstr)"
   ]
  },
  {
   "cell_type": "code",
   "execution_count": 24,
   "metadata": {},
   "outputs": [
    {
     "name": "stdout",
     "output_type": "stream",
     "text": [
      "Apple\n",
      "Apple\n"
     ]
    }
   ],
   "source": [
    "mystr=input()\n",
    "newstr=\"\"\n",
    "newstr+=mystr[0].upper()\n",
    "for ch in mystr[1:]:\n",
    "    newstr+=ch\n",
    "\n",
    "print(newstr)"
   ]
  },
  {
   "cell_type": "code",
   "execution_count": 29,
   "metadata": {},
   "outputs": [
    {
     "name": "stdout",
     "output_type": "stream",
     "text": [
      "BRBG\n",
      "0\n"
     ]
    }
   ],
   "source": [
    "def removestones(mystr):\n",
    "    n=len(mystr)\n",
    "    i=0\n",
    "    cr,cg,cb=0,0,0\n",
    "    while i<n:\n",
    "        if i<n and mystr[i]==\"R\":\n",
    "            i+=1\n",
    "            while i<n and mystr[i]==\"R\":\n",
    "                cr+=1\n",
    "                i+=1\n",
    "                \n",
    "        \n",
    "        if i<n and mystr[i]==\"G\":\n",
    "            i+=1\n",
    "            while i<n and mystr[i]==\"G\":\n",
    "                cg+=1\n",
    "                i+=1\n",
    "        \n",
    "        if i<n and mystr[i]==\"B\":\n",
    "            i+=1\n",
    "            while i<n and mystr[i]==\"B\":\n",
    "                cb+=1\n",
    "                i+=1\n",
    "        \n",
    "    print(cr+cb+cg)\n",
    "    \n",
    "    \n",
    "\n",
    "mystr=input()\n",
    "removestones(mystr)\n",
    "                "
   ]
  },
  {
   "cell_type": "code",
   "execution_count": 33,
   "metadata": {},
   "outputs": [],
   "source": [
    "def matrix(mat):\n",
    "    r,c=0,0\n",
    "    for i in range(5):\n",
    "        for j in range(5):\n",
    "            if mat[i][j]==1:\n",
    "                r,c=i,j\n",
    "                break\n",
    "    \n",
    "    print(abs(r-2)+abs(c-2))\n",
    "\n",
    "mat=[]\n",
    "for i in range(5):\n",
    "    row=[]\n",
    "    row=list(map(int,input().split()))\n",
    "    mat.append(row)\n",
    "\n",
    "matrix(mat)\n",
    "    \n",
    "            "
   ]
  },
  {
   "cell_type": "code",
   "execution_count": 54,
   "metadata": {},
   "outputs": [
    {
     "name": "stdout",
     "output_type": "stream",
     "text": [
      "3\n",
      "3 3 2\n",
      "[2, 3, 3]\n",
      "[3, 3]\n",
      "[3]\n",
      "[]\n",
      "3\n"
     ]
    }
   ],
   "source": [
    "\n",
    "\n",
    "def linearsearch(ar,i,n,y):\n",
    "    for j in range(i,n):\n",
    "        if ar[j]==y:\n",
    "            return j\n",
    "    \n",
    "    return -1\n",
    "\n",
    "\n",
    "n=input()\n",
    "mylist=list(map(int,input().split()))\n",
    "mylist.sort()\n",
    "#print(mylist)\n",
    "cnt=0\n",
    "i=0\n",
    "while i<len(mylist):\n",
    "    y=4-mylist[i]\n",
    "    if y==0:\n",
    "        cnt+=1\n",
    "        mylist.remove(mylist[i])\n",
    "        \n",
    "    \n",
    "    #index=binarysearch(mylist,i+1,len(mylist)-1,y)\n",
    "    index=linearsearch(mylist,i+1,len(mylist),y)\n",
    "    if index==-1:\n",
    "        cnt+=1\n",
    "        mylist.remove(mylist[i])\n",
    "        \n",
    "    else:\n",
    "        mylist.remove(mylist[i])\n",
    "        mylist.remove(y)\n",
    "        cnt+=1\n",
    "    #print(mylist)\n",
    "    \n",
    "print(cnt)\n",
    "        "
   ]
  },
  {
   "cell_type": "code",
   "execution_count": 3,
   "metadata": {},
   "outputs": [
    {
     "name": "stdout",
     "output_type": "stream",
     "text": [
      "sevenkplus\n",
      "CHAT WITH HER!\n"
     ]
    }
   ],
   "source": [
    "def checkgender(mystr):\n",
    "    \n",
    "    cntar=[0]*26\n",
    "    for ch in mystr:\n",
    "        idx=ord(ch)-ord('a')\n",
    "        cntar[idx]+=1\n",
    "    \n",
    "    cnt=0\n",
    "    for x in cntar:\n",
    "        if x!=0:\n",
    "            cnt+=1\n",
    "    \n",
    "    if int(cnt%2)==0:\n",
    "        print(\"CHAT WITH HER!\")\n",
    "    \n",
    "    else:\n",
    "        print(\"IGNORE HIM!\")\n",
    "\n",
    "        \n",
    "        \n",
    "mystr=input()\n",
    "checkgender(mystr)"
   ]
  },
  {
   "cell_type": "code",
   "execution_count": 35,
   "metadata": {},
   "outputs": [
    {
     "name": "stdout",
     "output_type": "stream",
     "text": [
      "pnnepelqomhhheollvlo\n",
      "YES\n"
     ]
    }
   ],
   "source": [
    "def linearsearch1(mylist,x,i):\n",
    "    \n",
    "    for i in range(i,len(mylist)):\n",
    "        #print(\"in for\")\n",
    "        if mylist[i]==x:\n",
    "            \n",
    "            return i\n",
    "    \n",
    "    return -1\n",
    "            \n",
    "            \n",
    "\n",
    "def checkHello(mylist):\n",
    "    mylist1=[]\n",
    "    i=0\n",
    "    for x in \"hello\":\n",
    "        #print(x)\n",
    "    \n",
    "        idx=linearsearch1(mylist,x,i)\n",
    "        if idx==-1:\n",
    "            print(\"NO\")\n",
    "            return\n",
    "        \n",
    "        i=idx+1\n",
    "        #mylist1.append(idx)\n",
    "    \n",
    "    print(\"YES\")\n",
    "    \n",
    "    \n",
    "        \n",
    "mystr=input()\n",
    "mylist=[]\n",
    "for ch in mystr:\n",
    "    mylist.append(ch)\n",
    "#print(mylist)\n",
    "checkHello(mylist)"
   ]
  },
  {
   "cell_type": "code",
   "execution_count": 30,
   "metadata": {},
   "outputs": [
    {
     "name": "stdout",
     "output_type": "stream",
     "text": [
      "78\n",
      "NO\n"
     ]
    }
   ],
   "source": [
    "def islucky(n):\n",
    "    \n",
    "    for ch in str(n):\n",
    "        \n",
    "        if ch!='4' and ch!='7':\n",
    "            return False\n",
    "    \n",
    "    \n",
    "    return True\n",
    "\n",
    "def checklucky(n):\n",
    "    for i in range(n+1):\n",
    "        \n",
    "        if islucky(i):\n",
    "            #print(i,end=\" \")\n",
    "            if n%i==0:\n",
    "                print(\"YES\")\n",
    "                return\n",
    "    \n",
    "    print(\"NO\")\n",
    "\n",
    "n=int(input())\n",
    "checklucky(n)"
   ]
  },
  {
   "cell_type": "code",
   "execution_count": 1,
   "metadata": {},
   "outputs": [
    {
     "name": "stdout",
     "output_type": "stream",
     "text": [
      "3 17 4\n",
      "13\n"
     ]
    }
   ],
   "source": [
    "def totalmoney(k,n,w):\n",
    "    s=0\n",
    "    for i in range(1,w+1):\n",
    "        s+=k*i\n",
    "    \n",
    "    print(abs(n-s))\n",
    "            \n",
    "\n",
    "knw=list(map(int,input().split()))\n",
    "k=knw[0]\n",
    "n=knw[1]\n",
    "w=knw[2]\n",
    "totalmoney(k,n,w)\n"
   ]
  },
  {
   "cell_type": "code",
   "execution_count": 5,
   "metadata": {},
   "outputs": [
    {
     "name": "stdout",
     "output_type": "stream",
     "text": [
      "6\n",
      "3 4 1 2 5 4\n",
      "3\n"
     ]
    }
   ],
   "source": [
    "def findMinCoins(ar):\n",
    "    ar.sort()\n",
    "    total_sum=sum(ar)\n",
    "    cur_sum=0\n",
    "    c=0\n",
    "    for i in range(len(ar)-1,-1,-1):\n",
    "        cur_sum+=ar[i]\n",
    "        c+=1\n",
    "        if cur_sum>total_sum-cur_sum:\n",
    "            print(c)\n",
    "            return\n",
    "\n",
    "n=int(input())\n",
    "mycoins=list(map(int,input().split()))\n",
    "findMinCoins(mycoins)"
   ]
  },
  {
   "cell_type": "code",
   "execution_count": 10,
   "metadata": {},
   "outputs": [
    {
     "name": "stdout",
     "output_type": "stream",
     "text": [
      "2\n"
     ]
    },
    {
     "ename": "TypeError",
     "evalue": "cannot unpack non-iterable int object",
     "output_type": "error",
     "traceback": [
      "\u001b[0;31m---------------------------------------------------------------------------\u001b[0m",
      "\u001b[0;31mTypeError\u001b[0m                                 Traceback (most recent call last)",
      "\u001b[0;32m<ipython-input-10-ac5cc0b07635>\u001b[0m in \u001b[0;36m<module>\u001b[0;34m()\u001b[0m\n\u001b[1;32m      1\u001b[0m \u001b[0mn\u001b[0m\u001b[0;34m=\u001b[0m\u001b[0mint\u001b[0m\u001b[0;34m(\u001b[0m\u001b[0minput\u001b[0m\u001b[0;34m(\u001b[0m\u001b[0;34m)\u001b[0m\u001b[0;34m)\u001b[0m\u001b[0;34m\u001b[0m\u001b[0m\n\u001b[0;32m----> 2\u001b[0;31m \u001b[0msx\u001b[0m\u001b[0;34m,\u001b[0m\u001b[0msy\u001b[0m\u001b[0;34m,\u001b[0m\u001b[0msz\u001b[0m\u001b[0;34m=\u001b[0m\u001b[0;36m0\u001b[0m\u001b[0;34m\u001b[0m\u001b[0m\n\u001b[0m\u001b[1;32m      3\u001b[0m \u001b[0;32mfor\u001b[0m \u001b[0mi\u001b[0m \u001b[0;32min\u001b[0m \u001b[0mrange\u001b[0m\u001b[0;34m(\u001b[0m\u001b[0mn\u001b[0m\u001b[0;34m)\u001b[0m\u001b[0;34m:\u001b[0m\u001b[0;34m\u001b[0m\u001b[0m\n\u001b[1;32m      4\u001b[0m     \u001b[0mmylist\u001b[0m\u001b[0;34m=\u001b[0m\u001b[0mlist\u001b[0m\u001b[0;34m(\u001b[0m\u001b[0mmap\u001b[0m\u001b[0;34m(\u001b[0m\u001b[0mint\u001b[0m\u001b[0;34m,\u001b[0m\u001b[0minput\u001b[0m\u001b[0;34m(\u001b[0m\u001b[0;34m)\u001b[0m\u001b[0;34m.\u001b[0m\u001b[0msplit\u001b[0m\u001b[0;34m(\u001b[0m\u001b[0;34m)\u001b[0m\u001b[0;34m)\u001b[0m\u001b[0;34m)\u001b[0m\u001b[0;34m\u001b[0m\u001b[0m\n\u001b[1;32m      5\u001b[0m     \u001b[0msx\u001b[0m\u001b[0;34m+=\u001b[0m\u001b[0mmylist\u001b[0m\u001b[0;34m[\u001b[0m\u001b[0;36m0\u001b[0m\u001b[0;34m]\u001b[0m\u001b[0;34m\u001b[0m\u001b[0m\n",
      "\u001b[0;31mTypeError\u001b[0m: cannot unpack non-iterable int object"
     ]
    }
   ],
   "source": [
    "n=int(input())\n",
    "sx,sy,sz=0,0,0\n",
    "for i in range(n):\n",
    "    mylist=list(map(int,input().split()))\n",
    "    sx+=mylist[0]\n",
    "    sy+=mylist[1]\n",
    "    sz+=mylist[2]\n",
    "\n",
    "if sx==0 and sy==0 and sz==0:\n",
    "    print(\"YES\")\n",
    "else:\n",
    "    print(\"NO\")"
   ]
  },
  {
   "cell_type": "code",
   "execution_count": 9,
   "metadata": {},
   "outputs": [
    {
     "name": "stdout",
     "output_type": "stream",
     "text": [
      "Codeforces\n",
      "NO\n"
     ]
    }
   ],
   "source": [
    "def checkop(mystr):\n",
    "    if \"H\" in mystr:\n",
    "        print(\"YES\")\n",
    "        return\n",
    "    \n",
    "    elif \"Q\" in mystr:\n",
    "        print(\"YES\")\n",
    "        return\n",
    "    \n",
    "    elif \"9\" in mystr:\n",
    "        print(\"YES\")\n",
    "        return\n",
    "    \n",
    "    elif \"+\" in mystr:\n",
    "        print(\"YES\")\n",
    "        return\n",
    "    else:\n",
    "        print(\"NO\")\n",
    "\n",
    "\n",
    "mystr=input()\n",
    "checkop(mystr)"
   ]
  },
  {
   "cell_type": "code",
   "execution_count": 18,
   "metadata": {},
   "outputs": [
    {
     "name": "stdout",
     "output_type": "stream",
     "text": [
      "cAPS\n",
      "Caps\n"
     ]
    }
   ],
   "source": [
    "mystr=input()\n",
    "if mystr.isupper():\n",
    "    print(mystr.lower())\n",
    "\n",
    "elif mystr[0].islower() and len(mystr)==1:\n",
    "    print(mystr[0].upper())\n",
    "\n",
    "elif mystr[0].islower() and mystr[1:].isupper():\n",
    "    newstr=mystr[0].upper()+mystr[1:].lower()\n",
    "    print(newstr)\n",
    "\n",
    "else:\n",
    "    print(mystr)\n",
    "    "
   ]
  },
  {
   "cell_type": "code",
   "execution_count": 28,
   "metadata": {},
   "outputs": [
    {
     "name": "stdout",
     "output_type": "stream",
     "text": [
      "10 3\n",
      "BBGBBBBBBG\n",
      "GBBBBBGBBB"
     ]
    }
   ],
   "source": [
    "nt=list(map(int,input().split()))\n",
    "n=nt[0]\n",
    "t=nt[1]\n",
    "myqueue=list(input())\n",
    "\n",
    "for i in range(t):\n",
    "    j=0\n",
    "    while j<len(myqueue)-1:\n",
    "        if myqueue[j]==\"B\" and myqueue[j+1]==\"G\":\n",
    "            myqueue[j],myqueue[j+1]=\"G\",\"B\"\n",
    "            j=j+2\n",
    "        else:\n",
    "            j=j+1\n",
    "            \n",
    "\n",
    "for i in myqueue:\n",
    "    print(i,end=\"\")\n",
    "\n",
    "\n",
    "            "
   ]
  },
  {
   "cell_type": "code",
   "execution_count": 31,
   "metadata": {},
   "outputs": [
    {
     "name": "stdout",
     "output_type": "stream",
     "text": [
      "3\n",
      "1 10\n",
      "0 10\n",
      "10 10\n",
      "2\n"
     ]
    }
   ],
   "source": [
    "n=int(input())\n",
    "c=0\n",
    "for i in range(n):\n",
    "    mylist=list(map(int,input().split()))\n",
    "    if mylist[1]-mylist[0]>=2:\n",
    "        c+=1\n",
    "print(c)"
   ]
  },
  {
   "cell_type": "code",
   "execution_count": 34,
   "metadata": {},
   "outputs": [
    {
     "name": "stdout",
     "output_type": "stream",
     "text": [
      "1000000000000000000\n",
      "NO\n"
     ]
    }
   ],
   "source": [
    "def islucky(n):\n",
    "    \n",
    "    for ch in str(n):\n",
    "        \n",
    "        if ch!='4' and ch!='7':\n",
    "            return False\n",
    "    \n",
    "    \n",
    "    return True\n",
    "\n",
    "def isluckydigit(n):\n",
    "    if n==\"4\" or n==\"7\":\n",
    "        return True\n",
    "    else:\n",
    "        return False\n",
    "    \n",
    "n=input()\n",
    "c=0\n",
    "for ch in n:\n",
    "    if isluckydigit(ch):\n",
    "        c+=1\n",
    "if islucky(c):\n",
    "    print(\"YES\")\n",
    "else:\n",
    "    print(\"NO\")"
   ]
  },
  {
   "cell_type": "code",
   "execution_count": 37,
   "metadata": {},
   "outputs": [
    {
     "name": "stdout",
     "output_type": "stream",
     "text": [
      "code\n",
      "code\n",
      "NO\n"
     ]
    }
   ],
   "source": [
    "s1=list(input())\n",
    "s2=list(input())\n",
    "\n",
    "s1.reverse()\n",
    "if s1==s2:\n",
    "    print(\"YES\")\n",
    "else:\n",
    "    print(\"NO\")"
   ]
  },
  {
   "cell_type": "code",
   "execution_count": 41,
   "metadata": {},
   "outputs": [
    {
     "name": "stdout",
     "output_type": "stream",
     "text": [
      "9000\n",
      "9012\n"
     ]
    }
   ],
   "source": [
    "n=int(input())\n",
    "i=n+1\n",
    "while True:\n",
    "\n",
    "    s=set()\n",
    "    for ch in str(i):\n",
    "        s.add(ch)\n",
    "    \n",
    "    if len(s)==len(str(i)):\n",
    "        print(i)\n",
    "        break\n",
    "    i=i+1"
   ]
  },
  {
   "cell_type": "code",
   "execution_count": 49,
   "metadata": {},
   "outputs": [
    {
     "name": "stdout",
     "output_type": "stream",
     "text": [
      "6\n",
      "2 2 1 3 4 1\n",
      "3\n"
     ]
    }
   ],
   "source": [
    "n=int(input())\n",
    "mylist=list(map(int,input().split()))\n",
    "ans,c,i=0,0,0\n",
    "\n",
    "while i<len(mylist)-1:\n",
    "    if mylist[i]<=mylist[i+1]:\n",
    "        c+=1\n",
    "        ans=max(ans,c)\n",
    "        \n",
    "    else:\n",
    "        \n",
    "        c=0\n",
    "    \n",
    "    i+=1\n",
    "    \n",
    "print(ans+1)\n",
    "\n",
    "    \n",
    "    \n",
    "            \n",
    "        \n",
    "            "
   ]
  },
  {
   "cell_type": "code",
   "execution_count": 52,
   "metadata": {},
   "outputs": [
    {
     "name": "stdout",
     "output_type": "stream",
     "text": [
      "4 6\n",
      "10 12 10 7 5 22\n",
      "5\n"
     ]
    }
   ],
   "source": [
    "nm=list(map(int,input().split()))\n",
    "n=nm[0]\n",
    "m=nm[1]\n",
    "puzlist=list(map(int,input().split()))\n",
    "puzlist.sort()\n",
    "ans=10000\n",
    "for i in range(m-n+1):\n",
    "    ans=min(ans,puzlist[i+n-1]-puzlist[i])\n",
    "\n",
    "print(ans)\n"
   ]
  },
  {
   "cell_type": "code",
   "execution_count": 54,
   "metadata": {},
   "outputs": [
    {
     "name": "stdout",
     "output_type": "stream",
     "text": [
      "2\n",
      "10\n",
      "3\n",
      "36\n"
     ]
    }
   ],
   "source": [
    "def findmax(a,b,c):\n",
    "    m1=(a+b)*c\n",
    "    m2=a+b*c\n",
    "    m3=a*b+c\n",
    "    m4=a*(b+c)\n",
    "    \n",
    "    print(max(max(m1,m2),max(m3,m4)))\n",
    "    \n",
    "\n",
    "a=int(input())\n",
    "b=int(input())\n",
    "c=int(input())\n",
    "\n",
    "findmax(a,b,c)\n",
    "    "
   ]
  }
 ],
 "metadata": {
  "kernelspec": {
   "display_name": "Python 3",
   "language": "python",
   "name": "python3"
  },
  "language_info": {
   "codemirror_mode": {
    "name": "ipython",
    "version": 3
   },
   "file_extension": ".py",
   "mimetype": "text/x-python",
   "name": "python",
   "nbconvert_exporter": "python",
   "pygments_lexer": "ipython3",
   "version": "3.7.0"
  }
 },
 "nbformat": 4,
 "nbformat_minor": 2
}
