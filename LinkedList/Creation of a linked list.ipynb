{
 "cells": [
  {
   "cell_type": "markdown",
   "metadata": {},
   "source": [
    "# Creating a linked list..."
   ]
  },
  {
   "cell_type": "code",
   "execution_count": 1,
   "metadata": {},
   "outputs": [
    {
     "name": "stdout",
     "output_type": "stream",
     "text": [
      "1 2 3 4 5 "
     ]
    }
   ],
   "source": [
    "class Node:\n",
    "    def __init__(self,data):\n",
    "        self.data=data\n",
    "        self.next=None\n",
    "\n",
    "class LinkedList :\n",
    "    def __init__(self):\n",
    "        self.head=None\n",
    "    \n",
    "    def printList(self):\n",
    "        temp=self.head\n",
    "        \n",
    "        while temp:\n",
    "            print(temp.data,end=\" \")\n",
    "            temp=temp.next\n",
    "        \n",
    "        \n",
    "if __name__ =='__main__':\n",
    "    \n",
    "    llist=LinkedList()\n",
    "    first=Node(1)\n",
    "    second=Node(2)\n",
    "    third=Node(3)\n",
    "    fourth=Node(4)\n",
    "    five=Node(5)\n",
    "    \n",
    "    llist.head=first\n",
    "    first.next=second\n",
    "    second.next=third\n",
    "    third.next=fourth\n",
    "    fourth.next=five\n",
    "    \n",
    "    llist.printList()"
   ]
  }
 ],
 "metadata": {
  "kernelspec": {
   "display_name": "Python 3",
   "language": "python",
   "name": "python3"
  },
  "language_info": {
   "codemirror_mode": {
    "name": "ipython",
    "version": 3
   },
   "file_extension": ".py",
   "mimetype": "text/x-python",
   "name": "python",
   "nbconvert_exporter": "python",
   "pygments_lexer": "ipython3",
   "version": "3.7.0"
  }
 },
 "nbformat": 4,
 "nbformat_minor": 2
}
