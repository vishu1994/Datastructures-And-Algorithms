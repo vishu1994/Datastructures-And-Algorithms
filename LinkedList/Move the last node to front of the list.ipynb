{
 "cells": [
  {
   "cell_type": "code",
   "execution_count": 1,
   "metadata": {},
   "outputs": [
    {
     "name": "stdout",
     "output_type": "stream",
     "text": [
      "1 2 3 4 5 \n",
      "5 1 2 3 4 "
     ]
    }
   ],
   "source": [
    "class Node:\n",
    "    \n",
    "    def __init__(self,data):\n",
    "        self.data=data\n",
    "        self.next=None\n",
    "\n",
    "class LinkedList:\n",
    "    \n",
    "    def __init__(self):\n",
    "        self.head=None\n",
    "    \n",
    "    #inserting at the end of the list...\n",
    "    def append(self,data):\n",
    "        \n",
    "        newnode=Node(data)\n",
    "        temp=self.head\n",
    "        \n",
    "        if temp is None:\n",
    "            self.head=newnode\n",
    "            return\n",
    "        \n",
    "        while temp.next:\n",
    "            temp=temp.next\n",
    "        \n",
    "        temp.next=newnode\n",
    "        \n",
    "\n",
    "    def printList(self):\n",
    "        current=self.head\n",
    "        while current:\n",
    "            print(current.data,end=\" \")\n",
    "            current=current.next\n",
    "\n",
    "    \n",
    "    def moveToFront(self):\n",
    "        \n",
    "        secondlastnode=self.head\n",
    "        \n",
    "        while secondlastnode.next.next:\n",
    "            secondlastnode=secondlastnode.next\n",
    "        \n",
    "        \n",
    "        secondlastnode.next.next=self.head\n",
    "        self.head=secondlastnode.next\n",
    "        secondlastnode.next=None\n",
    "    \n",
    "    \n",
    "    \n",
    "        \n",
    "        \n",
    "    \n",
    "mylist=LinkedList()\n",
    "mylist.append(1)\n",
    "mylist.append(2)\n",
    "mylist.append(3)\n",
    "mylist.append(4)\n",
    "mylist.append(5)\n",
    "#mylist.append(6)\n",
    "\n",
    "mylist.printList()\n",
    "mylist.moveToFront()\n",
    "print()\n",
    "mylist.printList()"
   ]
  }
 ],
 "metadata": {
  "kernelspec": {
   "display_name": "Python 3",
   "language": "python",
   "name": "python3"
  },
  "language_info": {
   "codemirror_mode": {
    "name": "ipython",
    "version": 3
   },
   "file_extension": ".py",
   "mimetype": "text/x-python",
   "name": "python",
   "nbconvert_exporter": "python",
   "pygments_lexer": "ipython3",
   "version": "3.6.5"
  }
 },
 "nbformat": 4,
 "nbformat_minor": 2
}
