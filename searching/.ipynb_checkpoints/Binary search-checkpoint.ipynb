{
 "cells": [
  {
   "cell_type": "code",
   "execution_count": 4,
   "metadata": {},
   "outputs": [
    {
     "name": "stdout",
     "output_type": "stream",
     "text": [
      "7\n",
      "Element not found\n"
     ]
    }
   ],
   "source": [
    "def binarysearch(ar,k):\n",
    "    lo=0\n",
    "    hi=len(ar)-1\n",
    "    while lo <= hi:\n",
    "        mid=lo + (hi-lo)//2\n",
    "        if ar[mid]== k:\n",
    "            return mid\n",
    "        \n",
    "        elif ar[mid]>k:\n",
    "            hi=mid-1\n",
    "            \n",
    "        else:\n",
    "            lo=mid+1\n",
    "            \n",
    "    return -1\n",
    "\n",
    "ar=[1,2,3,4,5,6,10,12,15]\n",
    "k=int(input())\n",
    "idx=binarysearch(ar,k)\n",
    "if idx!=-1:\n",
    "    print(\"Elemenet {} is found at {}\".format(k,idx))\n",
    "else:\n",
    "    print(\"Element not found\")"
   ]
  },
  {
   "cell_type": "code",
   "execution_count": 12,
   "metadata": {},
   "outputs": [],
   "source": [
    "import sys\n",
    "\n",
    "def binsearch_floor(ar,k):\n",
    "    \n",
    "    if k<ar[0]:\n",
    "        return -sys.maxsize-1\n",
    "        \n",
    "    \n",
    "    lo=0\n",
    "    hi=len(ar)-1\n",
    "    while lo<hi:\n",
    "        mid=lo+(hi-lo+1)//2\n",
    "        \n",
    "        if ar[mid]==k:\n",
    "            return ar[mid]\n",
    "        elif ar[mid] < k:\n",
    "            lo=mid\n",
    "        \n",
    "        else:\n",
    "            hi=mid-1\n",
    "    \n",
    "    return ar[lo]"
   ]
  },
  {
   "cell_type": "code",
   "execution_count": 14,
   "metadata": {},
   "outputs": [
    {
     "name": "stdout",
     "output_type": "stream",
     "text": [
      "-9223372036854775808\n"
     ]
    }
   ],
   "source": [
    "ar=[1,2,5,7,8,12]\n",
    "print(binsearch_floor(ar,0))"
   ]
  },
  {
   "cell_type": "code",
   "execution_count": 18,
   "metadata": {},
   "outputs": [
    {
     "name": "stdout",
     "output_type": "stream",
     "text": [
      "1 2 3\n",
      "<class 'list'>\n"
     ]
    }
   ],
   "source": [
    "ar=list(map(int,input().split()))\n",
    "print(type(ar))"
   ]
  },
  {
   "cell_type": "code",
   "execution_count": 16,
   "metadata": {},
   "outputs": [
    {
     "name": "stdout",
     "output_type": "stream",
     "text": [
      "[1, 2, 3, 4, 5]\n",
      "[6, 5, 1, 3, 3]\n"
     ]
    }
   ],
   "source": [
    "def compressArray(ar):\n",
    "    n=len(ar)\n",
    "    a=[]\n",
    "    b=[]\n",
    "    i=0\n",
    "    while i < n:\n",
    "        a.append(ar[i])\n",
    "        count=1\n",
    "        \n",
    "        while (i!=n-1 and ar[i+1]==ar[i]):\n",
    "            count+=1\n",
    "            i=i+1\n",
    "        \n",
    "        b.append(count)\n",
    "        i=i+1\n",
    "        \n",
    "    \n",
    "    print(a)\n",
    "    print(b)\n",
    "\n",
    "\n",
    "ar=[1,1,1,1,1,1,2,2,2,2,2,3,4,4,4,5,5,5]\n",
    "compressArray(ar)\n"
   ]
  },
  {
   "cell_type": "code",
   "execution_count": 22,
   "metadata": {},
   "outputs": [
    {
     "name": "stdout",
     "output_type": "stream",
     "text": [
      "{1: 6, 2: 5, 3: 1, 4: 3, 5: 3}\n",
      "[1, 2, 3, 4, 5]\n",
      "dict_items([(1, 6), (2, 5), (3, 1), (4, 3), (5, 3)])\n",
      "1 6\n",
      "2 5\n",
      "3 1\n",
      "4 3\n",
      "5 3\n"
     ]
    }
   ],
   "source": [
    "ar=[1,1,1,1,1,1,2,2,2,2,2,3,4,4,4,5,5,5]\n",
    "hashmap={}\n",
    "\n",
    "for i in ar:\n",
    "    if i in hashmap:\n",
    "        hashmap[i]+=1\n",
    "    else:\n",
    "        hashmap[i]=1\n",
    "\n",
    "print(hashmap)\n",
    "print(list(hashmap.keys()))\n",
    "print(hashmap.items())\n",
    "\n",
    "for key,value in hashmap.items():\n",
    "    print(key,end=\" \")\n",
    "    print(value)"
   ]
  },
  {
   "cell_type": "code",
   "execution_count": 53,
   "metadata": {},
   "outputs": [
    {
     "name": "stdout",
     "output_type": "stream",
     "text": [
      "True\n"
     ]
    }
   ],
   "source": [
    "def valid(ar,k,m):\n",
    "    c=0\n",
    "    s=0\n",
    "    n=len(ar)\n",
    "    i=0\n",
    "    while i < n:\n",
    "        s=s+ar[i]\n",
    "        \n",
    "        if s > m:\n",
    "            s=0\n",
    "            c+=1\n",
    "            s=ar[i]\n",
    "        \n",
    "        i+=1\n",
    "    \n",
    "    \n",
    "    if c <k:\n",
    "        return True\n",
    "    \n",
    "    else:\n",
    "        return False\n",
    "\n",
    "ar=[5,3,10,2,8,6,1,5,3,2]\n",
    "print(valid(ar,3,35))"
   ]
  },
  {
   "cell_type": "code",
   "execution_count": 26,
   "metadata": {},
   "outputs": [
    {
     "name": "stdout",
     "output_type": "stream",
     "text": [
      "hello\n"
     ]
    }
   ],
   "source": [
    "print(\"hello\")"
   ]
  },
  {
   "cell_type": "code",
   "execution_count": 58,
   "metadata": {},
   "outputs": [
    {
     "name": "stdout",
     "output_type": "stream",
     "text": [
      "19\n"
     ]
    }
   ],
   "source": [
    "def cuberoot(n):\n",
    "    lo=1\n",
    "    hi=n\n",
    "    while lo <=hi:\n",
    "        mid=lo+(hi-lo)//2\n",
    "        \n",
    "        if mid*mid*mid==n:\n",
    "            return mid\n",
    "        \n",
    "        elif mid*mid*mid > n:\n",
    "            hi=mid-1\n",
    "        \n",
    "        else:\n",
    "            lo=mid+1\n",
    "    \n",
    "    \n",
    "\n",
    "print(cuberoot(6859))"
   ]
  }
 ],
 "metadata": {
  "kernelspec": {
   "display_name": "Python 3",
   "language": "python",
   "name": "python3"
  },
  "language_info": {
   "codemirror_mode": {
    "name": "ipython",
    "version": 3
   },
   "file_extension": ".py",
   "mimetype": "text/x-python",
   "name": "python",
   "nbconvert_exporter": "python",
   "pygments_lexer": "ipython3",
   "version": "3.7.0"
  }
 },
 "nbformat": 4,
 "nbformat_minor": 2
}
