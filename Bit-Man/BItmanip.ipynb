{
 "cells": [
  {
   "cell_type": "code",
   "execution_count": 1,
   "metadata": {},
   "outputs": [],
   "source": [
    "import sys"
   ]
  },
  {
   "cell_type": "code",
   "execution_count": 2,
   "metadata": {},
   "outputs": [
    {
     "name": "stdout",
     "output_type": "stream",
     "text": [
      "28\n"
     ]
    }
   ],
   "source": [
    "print(sys.getsizeof(1))"
   ]
  },
  {
   "cell_type": "code",
   "execution_count": 3,
   "metadata": {},
   "outputs": [
    {
     "name": "stdout",
     "output_type": "stream",
     "text": [
      "24\n"
     ]
    }
   ],
   "source": [
    "print(sys.getsizeof(int()))"
   ]
  },
  {
   "cell_type": "code",
   "execution_count": 4,
   "metadata": {},
   "outputs": [
    {
     "name": "stdout",
     "output_type": "stream",
     "text": [
      "20\n"
     ]
    }
   ],
   "source": [
    "print(10<<1)"
   ]
  },
  {
   "cell_type": "code",
   "execution_count": 5,
   "metadata": {},
   "outputs": [
    {
     "name": "stdout",
     "output_type": "stream",
     "text": [
      "5\n"
     ]
    }
   ],
   "source": [
    "print(10>>1)"
   ]
  },
  {
   "cell_type": "code",
   "execution_count": 10,
   "metadata": {},
   "outputs": [
    {
     "name": "stdout",
     "output_type": "stream",
     "text": [
      "1267650600228229401496703205376\n"
     ]
    }
   ],
   "source": [
    "def pow2(n):\n",
    "    return 1<<n\n",
    "\n",
    "print(pow2(100))"
   ]
  },
  {
   "cell_type": "code",
   "execution_count": 27,
   "metadata": {},
   "outputs": [
    {
     "name": "stdout",
     "output_type": "stream",
     "text": [
      "2\n"
     ]
    }
   ],
   "source": [
    "def checkbit(n,i):\n",
    "    \n",
    "    return (n>>i)&1\n",
    "\n",
    "#print(checkbit(5,0))\n",
    "\n",
    "def countsetbits(n):\n",
    "    count=0\n",
    "    while(n):\n",
    "        \n",
    "        if(checkbit(n,0)):\n",
    "            count+=1\n",
    "        \n",
    "#         if(n&1):\n",
    "#             count+=1\n",
    "        \n",
    "        n=n>>1\n",
    "    \n",
    "    return count\n",
    "\n",
    "print(countsetbits(5))\n",
    "            "
   ]
  },
  {
   "cell_type": "code",
   "execution_count": 29,
   "metadata": {},
   "outputs": [
    {
     "name": "stdout",
     "output_type": "stream",
     "text": [
      "96\n"
     ]
    }
   ],
   "source": [
    "def fun(x,y):\n",
    "    n=0\n",
    "    for i in range(y,x+y):\n",
    "        n=n | (1<<i)\n",
    "    \n",
    "    return n\n",
    "\n",
    "print(fun(2,5))"
   ]
  },
  {
   "cell_type": "code",
   "execution_count": 30,
   "metadata": {},
   "outputs": [],
   "source": [
    "import math as m\n"
   ]
  },
  {
   "cell_type": "code",
   "execution_count": 34,
   "metadata": {},
   "outputs": [
    {
     "name": "stdout",
     "output_type": "stream",
     "text": [
      "2\n"
     ]
    }
   ],
   "source": [
    "print(int(m.sqrt(5)))"
   ]
  },
  {
   "cell_type": "code",
   "execution_count": 37,
   "metadata": {},
   "outputs": [
    {
     "name": "stdout",
     "output_type": "stream",
     "text": [
      "3\n"
     ]
    }
   ],
   "source": [
    "def div(n):\n",
    "    cnt=0\n",
    "    for i in range(1,int(m.sqrt(n))+1):\n",
    "        if n%i==0:\n",
    "            if i*i==n:\n",
    "                cnt+=1\n",
    "            else:\n",
    "                cnt+=2\n",
    "    return cnt\n",
    "\n",
    "\n",
    "print(div(9))"
   ]
  },
  {
   "cell_type": "code",
   "execution_count": 109,
   "metadata": {},
   "outputs": [
    {
     "name": "stdout",
     "output_type": "stream",
     "text": [
      "[[1], [2], [2, 1], [3], [3, 1], [3, 2], [3, 2, 1]]\n"
     ]
    }
   ],
   "source": [
    "subsetss=[]\n",
    "def subsets(ar):\n",
    "    n=len(ar)\n",
    "    for i in range(1,int(pow(2,n))):\n",
    "        subset=[]\n",
    "        for j in range(n):\n",
    "            if(checkbit(i,j)):\n",
    "                subset.append(ar[j])\n",
    "        subsetss.append(subset)\n",
    "    \n",
    "\n",
    "ar=[3,2,1]\n",
    "subsets(ar)\n",
    "print(sorted(subsetss))\n"
   ]
  },
  {
   "cell_type": "code",
   "execution_count": 41,
   "metadata": {},
   "outputs": [
    {
     "name": "stdout",
     "output_type": "stream",
     "text": [
      "1000000000\n"
     ]
    }
   ],
   "source": [
    "def apowb(a,b):\n",
    "    r=1\n",
    "    m=1000000007\n",
    "    \n",
    "    for i in range(b):\n",
    "        r=(r*a)%m\n",
    "        \n",
    "    \n",
    "    print(r)\n",
    "    \n",
    "    \n",
    "apowb(10,9)"
   ]
  },
  {
   "cell_type": "code",
   "execution_count": 46,
   "metadata": {},
   "outputs": [
    {
     "name": "stdout",
     "output_type": "stream",
     "text": [
      "1000000007.0\n"
     ]
    }
   ],
   "source": [
    "a=1e9+7\n",
    "print(a)"
   ]
  },
  {
   "cell_type": "code",
   "execution_count": 67,
   "metadata": {},
   "outputs": [
    {
     "name": "stdout",
     "output_type": "stream",
     "text": [
      "1\n"
     ]
    }
   ],
   "source": [
    "ar=[[1]]\n",
    "for i in ar:\n",
    "    for j in i:\n",
    "        print(j)\n"
   ]
  },
  {
   "cell_type": "code",
   "execution_count": 66,
   "metadata": {},
   "outputs": [
    {
     "name": "stdout",
     "output_type": "stream",
     "text": [
      "3 8 15 12 7 "
     ]
    }
   ],
   "source": [
    "def diagtravupper(ar):\n",
    "    n=len(ar)\n",
    "    count=0\n",
    "    upper=[]\n",
    "    if count==0:\n",
    "        upper.append(list([ar[0][n-1]]))\n",
    "        count+=1\n",
    "    \n",
    "    \n",
    "    for i in range(1,n):\n",
    "            k=i\n",
    "            diag=[]\n",
    "            for j in range(n-1,n-2-count,-1):\n",
    "                diag.append(ar[k][j])\n",
    "                k-=1\n",
    "            #print(diag)\n",
    "            upper.append(diag)\n",
    "            count+=1\n",
    "        \n",
    "    return upper\n",
    "\n",
    "def diagtravlow(ar):\n",
    "    n=len(ar)\n",
    "    low=[]\n",
    "    count=n-1\n",
    "    if count==n-1:\n",
    "        low.append(list([ar[n-1][0]]))\n",
    "    \n",
    "    for i in range(n-2,0,-1):\n",
    "        k=i\n",
    "        diag=[]\n",
    "        for j in range(n-count+1):\n",
    "            diag.append(ar[k][j])\n",
    "            k+=1\n",
    "        \n",
    "        count-=1\n",
    "        low.append(diag)\n",
    "        \n",
    "    return low\n",
    "\n",
    "def sumofdiag(up,lo):\n",
    "    for d in up:\n",
    "        s=0\n",
    "        for i in d:\n",
    "            s=s+i\n",
    "        print(s,end=\" \")\n",
    "    \n",
    "    for di in reversed(lo):\n",
    "        s=0\n",
    "        for i in di:\n",
    "            s=s+i\n",
    "        print(s,end=\" \")\n",
    "        \n",
    "\n",
    "    \n",
    "                \n",
    "\n",
    "ar=[[1,2,3],[4,5,6],[7,8,9]]\n",
    "#print(diagtravlow(ar))\n",
    "sumofdiag(diagtravupper(ar),diagtravlow(ar))\n",
    "\n",
    "#print(len(ar))\n",
    "    \n",
    "    "
   ]
  },
  {
   "cell_type": "code",
   "execution_count": 83,
   "metadata": {},
   "outputs": [
    {
     "name": "stdout",
     "output_type": "stream",
     "text": [
      "7 3\n",
      "966369\n",
      "999996\n",
      "1\n",
      "51\n",
      "7\n",
      "9\n",
      "11\n",
      "4\n"
     ]
    }
   ],
   "source": [
    "wb=input().split()\n",
    "w=int(wb[0])\n",
    "b=int(wb[1])\n",
    "\n",
    "c=0\n",
    "while w:\n",
    "    a=int(input())\n",
    "    if a%3==0:\n",
    "        c+=1\n",
    "    \n",
    "    w=w-1\n",
    "    \n",
    "\n",
    "print(c)"
   ]
  },
  {
   "cell_type": "code",
   "execution_count": 85,
   "metadata": {},
   "outputs": [
    {
     "name": "stdout",
     "output_type": "stream",
     "text": [
      "120\n",
      "120.00\n"
     ]
    }
   ],
   "source": [
    "a=float(input())\n",
    "print(\"{:.2f}\".format(a))"
   ]
  },
  {
   "cell_type": "code",
   "execution_count": 89,
   "metadata": {},
   "outputs": [
    {
     "name": "stdout",
     "output_type": "stream",
     "text": [
      "2\n",
      "100 200\n",
      "300\n",
      "2 3\n",
      "5\n"
     ]
    }
   ],
   "source": [
    "def fact(x,y):\n",
    "    print(x+y)\n",
    "    \n",
    "\n",
    "    \n",
    "t=int(input())\n",
    "\n",
    "\n",
    "while t:\n",
    "    s=input().split()\n",
    "    x,y=int(s[0]),int(s[1])\n",
    "    fact(x,y)\n",
    "    t=t-1"
   ]
  },
  {
   "cell_type": "code",
   "execution_count": 104,
   "metadata": {},
   "outputs": [],
   "source": [
    "ar=[1,2,1,4,2,1,4,3,5,1,2,3,4,5]\n",
    "\n",
    "hashmap={}\n",
    "\n",
    "for i in ar:\n",
    "    if i in hashmap:\n",
    "        val=hashmap[i]+1\n",
    "        del hashmap[i]\n",
    "        hashmap[i]=val\n",
    "    \n",
    "    else:\n",
    "        hashmap[i]=1\n",
    "        "
   ]
  },
  {
   "cell_type": "code",
   "execution_count": 105,
   "metadata": {},
   "outputs": [
    {
     "name": "stdout",
     "output_type": "stream",
     "text": [
      "{1: 4, 2: 3, 3: 2, 4: 3, 5: 2}\n"
     ]
    }
   ],
   "source": [
    "print(hashmap)"
   ]
  },
  {
   "cell_type": "code",
   "execution_count": 106,
   "metadata": {},
   "outputs": [
    {
     "name": "stdout",
     "output_type": "stream",
     "text": [
      "4\n",
      "3\n",
      "3\n",
      "2\n"
     ]
    }
   ],
   "source": [
    "a=[1,2,4,5]\n",
    "\n",
    "for i in a:\n",
    "    print(hashmap[i])"
   ]
  }
 ],
 "metadata": {
  "kernelspec": {
   "display_name": "Python 3",
   "language": "python",
   "name": "python3"
  },
  "language_info": {
   "codemirror_mode": {
    "name": "ipython",
    "version": 3
   },
   "file_extension": ".py",
   "mimetype": "text/x-python",
   "name": "python",
   "nbconvert_exporter": "python",
   "pygments_lexer": "ipython3",
   "version": "3.7.0"
  }
 },
 "nbformat": 4,
 "nbformat_minor": 2
}
