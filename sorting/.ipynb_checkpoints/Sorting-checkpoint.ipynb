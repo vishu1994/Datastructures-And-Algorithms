{
 "cells": [
  {
   "cell_type": "markdown",
   "metadata": {},
   "source": [
    "# Bubble sort"
   ]
  },
  {
   "cell_type": "code",
   "execution_count": 2,
   "metadata": {},
   "outputs": [
    {
     "name": "stdout",
     "output_type": "stream",
     "text": [
      "The sorted array is [1, 2, 3, 4, 5]\n"
     ]
    }
   ],
   "source": [
    "def bubbleSort(arr):\n",
    "    n=len(arr)\n",
    "    # This outer loop is for passes...\n",
    "    for i in range(n-1):\n",
    "        # This inner loop is for comparing adjacent elements\n",
    "        for j in range(n-i-1):\n",
    "            if arr[j]>arr[j+1]:\n",
    "                arr[j],arr[j+1]=arr[j+1],arr[j]\n",
    "                \n",
    "arr=[5,4,3,2,1]\n",
    "bubbleSort(arr)\n",
    "print(\"The sorted array is\",arr)\n",
    "        "
   ]
  },
  {
   "cell_type": "markdown",
   "metadata": {},
   "source": [
    "The above implementation takes O(n^2) , so even if the array is already sorted the inner loop is executed everytime. "
   ]
  },
  {
   "cell_type": "code",
   "execution_count": 3,
   "metadata": {},
   "outputs": [
    {
     "name": "stdout",
     "output_type": "stream",
     "text": [
      "The sorted array is [1, 2, 3, 4, 5]\n"
     ]
    }
   ],
   "source": [
    "def bubbleSort(arr):\n",
    "    n=len(arr)\n",
    "    # This outer loop is for passes...\n",
    "    for i in range(n-1):\n",
    "        swap=False\n",
    "        # This inner loop is for comparing adjacent elements\n",
    "        for j in range(n-i-1):\n",
    "            if arr[j]>arr[j+1]:\n",
    "                swap=True\n",
    "                arr[j],arr[j+1]=arr[j+1],arr[j]\n",
    "        if swap is False :\n",
    "            break\n",
    "                \n",
    "arr=[5,4,3,2,1]\n",
    "bubbleSort(arr)\n",
    "print(\"The sorted array is\",arr)\n",
    "        "
   ]
  },
  {
   "cell_type": "markdown",
   "metadata": {},
   "source": [
    "The above implementation stops executing if there are no swaps done in the inner loop.\n",
    "\n",
    "### Worst and Average Case Time Complexity: \n",
    "O(n*n). Worst case occurs when array is reverse sorted.\n",
    "\n",
    "### Best Case Time Complexity: \n",
    "O(n). Best case occurs when array is already sorted.\n",
    "\n",
    "### Auxiliary Space: \n",
    "O(1)\n",
    "\n",
    "### Boundary Cases: \n",
    "Bubble sort takes minimum time (Order of n) when elements are already sorted.\n",
    "\n",
    "### Sorting In Place:\n",
    "Yes\n",
    "\n",
    "### Stable: \n",
    "Yes"
   ]
  },
  {
   "cell_type": "markdown",
   "metadata": {},
   "source": [
    "# Selection sort"
   ]
  },
  {
   "cell_type": "code",
   "execution_count": 11,
   "metadata": {},
   "outputs": [
    {
     "name": "stdout",
     "output_type": "stream",
     "text": [
      "Sorted array is  ['floppy', 'flower', 'paper', 'soap', 'true']\n"
     ]
    }
   ],
   "source": [
    "def selectionSort(arr):\n",
    "    n=len(arr)\n",
    "    for i in range(n):\n",
    "        min_index=i\n",
    "        for j in range(i+1,n):\n",
    "            if arr[j]<arr[min_index]:\n",
    "                min_index=j\n",
    "        arr[min_index],arr[i]=arr[i],arr[min_index]\n",
    "    \n",
    "arr=[\"paper\",\"true\",\"soap\",\"flower\",\"floppy\"]\n",
    "#arr=[5,4,3,2,1]\n",
    "selectionSort(arr)\n",
    "print(\"Sorted array is \", arr)"
   ]
  },
  {
   "cell_type": "markdown",
   "metadata": {},
   "source": [
    "#### Time Complexity: \n",
    "O(n2) as there are two nested loops.\n",
    "\n",
    "#### Auxiliary Space: \n",
    "O(1)\n",
    "The good thing about selection sort is it never makes more than O(n) swaps and can be useful when memory write is a costly operation. "
   ]
  },
  {
   "cell_type": "markdown",
   "metadata": {},
   "source": [
    "Selection sort is not a stable algorithm as while swapping we may lose the order of elements.\n",
    "We can get rid of this problem by not using swapping instead we can use something like insertion sort.\n",
    "We can just move elements to the right, and in the end just overwrite at \"i\" position."
   ]
  },
  {
   "cell_type": "code",
   "execution_count": 10,
   "metadata": {},
   "outputs": [
    {
     "name": "stdout",
     "output_type": "stream",
     "text": [
      "Sorted array is  [1, 2, 3, 4, 5]\n"
     ]
    }
   ],
   "source": [
    "def selectionSort(arr):\n",
    "    n=len(arr)\n",
    "    for i in range(n):\n",
    "        min_index=i\n",
    "        for j in range(i+1,n):\n",
    "            if arr[j]<arr[min_index]:\n",
    "                min_index=j\n",
    "        # arr[min_index],arr[i]=arr[i],arr[min_index]\n",
    "        key=arr[min_index]\n",
    "        # shifting elements to the right\n",
    "        while min_index > i:\n",
    "            arr[min_index]=arr[min_index-1]\n",
    "            min_index=min_index-1\n",
    "        \n",
    "        arr[i]=key\n",
    "    \n",
    "arr=[5,4,3,2,1]\n",
    "selectionSort(arr)\n",
    "print(\"Sorted array is \", arr)"
   ]
  },
  {
   "cell_type": "markdown",
   "metadata": {},
   "source": [
    "# Insertion Sort"
   ]
  },
  {
   "cell_type": "code",
   "execution_count": 13,
   "metadata": {},
   "outputs": [
    {
     "name": "stdout",
     "output_type": "stream",
     "text": [
      "Sorted array is  [1, 2, 3, 4, 5]\n"
     ]
    }
   ],
   "source": [
    "def insertionSort(a):\n",
    "    n=len(a)\n",
    "    for i in range(1,n):\n",
    "        key=a[i]\n",
    "        j=i-1\n",
    "        while(j>=0 and a[j]> key):\n",
    "            a[j+1]=a[j]\n",
    "            j-=1\n",
    "        a[j+1]=key\n",
    "\n",
    "arr=[5,4,3,2,1]\n",
    "insertionSort(arr)\n",
    "print(\"Sorted array is \", arr)"
   ]
  },
  {
   "cell_type": "markdown",
   "metadata": {},
   "source": [
    "# MergeSort"
   ]
  },
  {
   "cell_type": "code",
   "execution_count": 6,
   "metadata": {},
   "outputs": [
    {
     "name": "stdout",
     "output_type": "stream",
     "text": [
      "The sorted array is :   3 9 10 27 38 43 82 "
     ]
    }
   ],
   "source": [
    "def merge(arr,l,m,r):\n",
    "    n1=m-l+1\n",
    "    n2=r-m\n",
    "    \n",
    "    L=[0]* n1\n",
    "    R=[0]* n2\n",
    "    \n",
    "    for i in range(n1):\n",
    "        L[i]=arr[l+i]\n",
    "    \n",
    "    for j in range(n2):\n",
    "        R[j]=arr[m+1+j]\n",
    "        \n",
    "    i=0;\n",
    "    j=0;\n",
    "    k=l;\n",
    "    \n",
    "    while i<n1 and j<n2 :\n",
    "        if L[i]<=R[j]:\n",
    "            arr[k]=L[i]\n",
    "            i+=1\n",
    "        else :\n",
    "            arr[k]=R[j]\n",
    "            j+=1\n",
    "            \n",
    "        k+=1\n",
    "    \n",
    "    while i<n1:\n",
    "        arr[k]=L[i]\n",
    "        i+=1\n",
    "        k+=1\n",
    "    \n",
    "    while j<n2:\n",
    "        arr[k]=R[j]\n",
    "        j+=1\n",
    "        k+=1\n",
    "    \n",
    "    \n",
    "\n",
    "\n",
    "def mergeSort(arr,l,r):\n",
    "    if l<r :\n",
    "        m=int(l+(r-l)/2)\n",
    "        mergeSort(arr,l,m)\n",
    "        mergeSort(arr,m+1,r)\n",
    "        merge(arr,l,m,r)\n",
    "    \n",
    "    \n",
    "arr=[38,27,43,3,9,82,10]\n",
    "n=len(arr)\n",
    "mergeSort(arr,0,n-1)\n",
    "\n",
    "print(\"The sorted array is : \",end=\"  \")\n",
    "for i in range(len(arr)):\n",
    "    print(arr[i],end=\" \")\n"
   ]
  },
  {
   "cell_type": "markdown",
   "metadata": {},
   "source": [
    "# QuickSort"
   ]
  },
  {
   "cell_type": "code",
   "execution_count": 8,
   "metadata": {},
   "outputs": [
    {
     "name": "stdout",
     "output_type": "stream",
     "text": [
      "The sorted array is :   3 9 10 27 38 43 82 "
     ]
    }
   ],
   "source": [
    "def partition(arr,l,r):\n",
    "    pivot=arr[r]\n",
    "    i=l-1\n",
    "    \n",
    "    for j in range(l,r):\n",
    "        if arr[j]<=pivot:\n",
    "            i+=1\n",
    "            arr[i],arr[j]=arr[j],arr[i]\n",
    "    \n",
    "    arr[i+1],arr[r]=arr[r],arr[i+1]\n",
    "    return i+1\n",
    "\n",
    "def quickSort(arr,l,r):\n",
    "    if l<r :\n",
    "        p=partition(arr,l,r)# this function puts the pivot element at its correct position and returns its position.\n",
    "        quickSort(arr,l,p-1)\n",
    "        quickSort(arr,p+1,r)\n",
    "        \n",
    "arr=[38,27,43,3,9,82,10]\n",
    "n=len(arr)\n",
    "quickSort(arr,0,n-1)\n",
    "\n",
    "print(\"The sorted array is : \",end=\"  \")\n",
    "for i in range(len(arr)):\n",
    "    print(arr[i],end=\" \")\n",
    "\n",
    "        \n"
   ]
  },
  {
   "cell_type": "markdown",
   "metadata": {},
   "source": [
    "## Iterative version of Quick sort"
   ]
  },
  {
   "cell_type": "code",
   "execution_count": 16,
   "metadata": {},
   "outputs": [
    {
     "name": "stdout",
     "output_type": "stream",
     "text": [
      "The sorted array is :   3 9 10 27 38 43 82 "
     ]
    }
   ],
   "source": [
    "def partitionIterative(arr,low,high):\n",
    "    pivot=arr[high]\n",
    "    i=low-1\n",
    "    \n",
    "    for j in range(low,high):\n",
    "        if arr[j]<=pivot:\n",
    "            i+=1\n",
    "            arr[i],arr[j]=arr[j],arr[i]\n",
    "    \n",
    "    arr[i+1],arr[high]=arr[high],arr[i+1]\n",
    "    \n",
    "    return i+1\n",
    "\n",
    "def quickSortIterative(arr,low,high):\n",
    "    size=high-low+1\n",
    "    stack=[0]*size\n",
    "    \n",
    "    #initialise the top\n",
    "    top=-1\n",
    "    \n",
    "    top=top+1\n",
    "    stack[top]=low\n",
    "    top+=1\n",
    "    stack[top]=high\n",
    "    \n",
    "    while top>=0:\n",
    "        high=stack[top]\n",
    "        top-=1\n",
    "        low=stack[top]\n",
    "        top-=1\n",
    "        \n",
    "        p=partitionIterative(arr,low,high)\n",
    "        \n",
    "        if p-1>low:\n",
    "            top+=1\n",
    "            stack[top]=low\n",
    "            top+=1\n",
    "            stack[top]=p-1\n",
    "        \n",
    "        if p+1<high:\n",
    "            top+=1\n",
    "            stack[top]=p+1\n",
    "            top+=1\n",
    "            stack[top]=high\n",
    "\n",
    "            \n",
    "arr=[38,27,43,3,9,82,10]\n",
    "n=len(arr)\n",
    "quickSortIterative(arr,0,n-1)\n",
    "\n",
    "print(\"The sorted array is : \",end=\"  \")\n",
    "for i in range(len(arr)):\n",
    "    print(arr[i],end=\" \")\n",
    "    \n",
    "    "
   ]
  },
  {
   "cell_type": "markdown",
   "metadata": {},
   "source": [
    "# counting sort"
   ]
  },
  {
   "cell_type": "code",
   "execution_count": 19,
   "metadata": {},
   "outputs": [
    {
     "name": "stdout",
     "output_type": "stream",
     "text": [
      "The sorted array is :   3 9 10 27 38 43 82 "
     ]
    }
   ],
   "source": [
    "def countingSort(arr,m):\n",
    "    n=len(arr)\n",
    "    count=[0]*(m+1)\n",
    "    \n",
    "    for a in arr:\n",
    "        count[a]+=1\n",
    "    \n",
    "    i=0\n",
    "    for a in range(m+1):\n",
    "        if count[a] is not 0 :\n",
    "            for j in range(count[a]):\n",
    "                arr[i]=a\n",
    "                i+=1\n",
    "    \n",
    "\n",
    "arr=[38,27,43,3,9,82,10]\n",
    "countingSort(arr,82)\n",
    "\n",
    "print(\"The sorted array is : \",end=\"  \")\n",
    "for i in range(len(arr)):\n",
    "    print(arr[i],end=\" \")"
   ]
  }
 ],
 "metadata": {
  "kernelspec": {
   "display_name": "Python 3",
   "language": "python",
   "name": "python3"
  },
  "language_info": {
   "codemirror_mode": {
    "name": "ipython",
    "version": 3
   },
   "file_extension": ".py",
   "mimetype": "text/x-python",
   "name": "python",
   "nbconvert_exporter": "python",
   "pygments_lexer": "ipython3",
   "version": "3.7.0"
  }
 },
 "nbformat": 4,
 "nbformat_minor": 2
}
