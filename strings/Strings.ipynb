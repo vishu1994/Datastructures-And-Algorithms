{
 "cells": [
  {
   "cell_type": "markdown",
   "metadata": {},
   "source": [
    "## Length of longest palindromic substring"
   ]
  },
  {
   "cell_type": "code",
   "execution_count": 14,
   "metadata": {
    "scrolled": true
   },
   "outputs": [
    {
     "name": "stdout",
     "output_type": "stream",
     "text": [
      "18\n",
      "Longest palindromic string is : qnnrkurfmmfrukrnnq \n"
     ]
    }
   ],
   "source": [
    "def longestpalindrome(ar):\n",
    "    ans=1\n",
    "    start=0\n",
    "    for i in range(1,len(ar)):\n",
    "        p1=i-1\n",
    "        p2=i\n",
    "        \n",
    "        while p1>=0 and p2<len(ar) and ar[p1]==ar[p2]:\n",
    "            \n",
    "            if p2-p1+1>ans:\n",
    "                ans=p2-p1+1\n",
    "                start=p1\n",
    "                \n",
    "            p1-=1\n",
    "            p2+=1\n",
    "        \n",
    "        \n",
    "        p1=i-1\n",
    "        p2=i+1\n",
    "        \n",
    "        \n",
    "        while p1>=0 and p2<len(ar) and ar[p1]==ar[p2]:\n",
    "            if p2-p1+1>ans:\n",
    "                ans=p2-p1+1\n",
    "                start=p1\n",
    "            \n",
    "            p1-=1\n",
    "            p2+=1\n",
    "        \n",
    "        \n",
    "        \n",
    "        \n",
    "    print(ans)\n",
    "    #print(\"Longest palindromic string is : %s \"%(ar[start:start+ans]))\n",
    "    \n",
    "    \n",
    "\n",
    "longestpalindrome(\"mzmqnnrkurfmmfrukrnnqsm\")\n",
    "\n",
    "        \n",
    "        "
   ]
  },
  {
   "cell_type": "code",
   "execution_count": 2,
   "metadata": {},
   "outputs": [
    {
     "name": "stdout",
     "output_type": "stream",
     "text": [
      "hello\n"
     ]
    }
   ],
   "source": [
    "print(\"hello\")"
   ]
  }
 ],
 "metadata": {
  "kernelspec": {
   "display_name": "Python 3",
   "language": "python",
   "name": "python3"
  },
  "language_info": {
   "codemirror_mode": {
    "name": "ipython",
    "version": 3
   },
   "file_extension": ".py",
   "mimetype": "text/x-python",
   "name": "python",
   "nbconvert_exporter": "python",
   "pygments_lexer": "ipython3",
   "version": "3.7.0"
  }
 },
 "nbformat": 4,
 "nbformat_minor": 2
}
