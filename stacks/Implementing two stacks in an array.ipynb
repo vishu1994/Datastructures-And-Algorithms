{
 "cells": [
  {
   "cell_type": "code",
   "execution_count": 6,
   "metadata": {},
   "outputs": [
    {
     "name": "stdout",
     "output_type": "stream",
     "text": [
      " item popped from stack 1 is  : 3\n",
      " item popped from stack 2 is  : 4\n",
      " item popped from stack 1 is  : 2\n",
      " item popped from stack 2 is  : 5\n"
     ]
    }
   ],
   "source": [
    "class twoStacks:\n",
    "    \n",
    "    def __init__(self,n):\n",
    "        self.size=n\n",
    "        self.array=[None]*self.size\n",
    "        self.top1=-1\n",
    "        self.top2=self.size\n",
    "    \n",
    "    def push1(self,item):\n",
    "        \n",
    "        if self.top1<self.top2-1:\n",
    "            self.top1=self.top1+1\n",
    "            self.array[self.top1]=item\n",
    "        \n",
    "        else:\n",
    "            print(\"stack overflow\")\n",
    "            return\n",
    "    \n",
    "    def pop1(self):\n",
    "        \n",
    "        if self.top1 >=0:\n",
    "            temp=self.array[self.top1]\n",
    "            self.top1=self.top1-1\n",
    "            return temp\n",
    "        \n",
    "        else:\n",
    "            print(\"stack underflow\")\n",
    "            \n",
    "    \n",
    "    def push2(self,item):\n",
    "        \n",
    "        if self.top1 < self.top2-1:\n",
    "            self.top2=self.top2-1\n",
    "            self.array[self.top2]=item\n",
    "        \n",
    "        else :\n",
    "            print(\"stack overflow\")\n",
    "            \n",
    "    \n",
    "    def pop2(self):\n",
    "        \n",
    "        if self.top2 < self.size:\n",
    "            temp=self.array[self.top2]\n",
    "            self.top2=self.top2+1\n",
    "            return temp\n",
    "        \n",
    "        else :\n",
    "            print(\"stack underflow\")\n",
    "\n",
    "            \n",
    "            \n",
    "mystack=twoStacks(5)\n",
    "\n",
    "mystack.push1(1)\n",
    "mystack.push1(2)\n",
    "mystack.push2(5)\n",
    "mystack.push2(4)\n",
    "mystack.push1(3)\n",
    "\n",
    "print(\" item popped from stack 1 is  :\", mystack.pop1())\n",
    "\n",
    "print(\" item popped from stack 2 is  :\", mystack.pop2())\n",
    "\n",
    "print(\" item popped from stack 1 is  :\", mystack.pop1())\n",
    "\n",
    "print(\" item popped from stack 2 is  :\", mystack.pop2())\n",
    "\n",
    "\n",
    "            "
   ]
  }
 ],
 "metadata": {
  "kernelspec": {
   "display_name": "Python 3",
   "language": "python",
   "name": "python3"
  },
  "language_info": {
   "codemirror_mode": {
    "name": "ipython",
    "version": 3
   },
   "file_extension": ".py",
   "mimetype": "text/x-python",
   "name": "python",
   "nbconvert_exporter": "python",
   "pygments_lexer": "ipython3",
   "version": "3.7.0"
  }
 },
 "nbformat": 4,
 "nbformat_minor": 2
}
