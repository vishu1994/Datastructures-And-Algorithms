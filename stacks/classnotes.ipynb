{
 "cells": [
  {
   "cell_type": "markdown",
   "metadata": {},
   "source": [
    "### Given an array \"a\"  of size n and array \"b\"....\n",
    "### Populate b[i]=smallest element in array \"a\" from i+1 to n-1"
   ]
  },
  {
   "cell_type": "code",
   "execution_count": 18,
   "metadata": {},
   "outputs": [
    {
     "name": "stdout",
     "output_type": "stream",
     "text": [
      "[3, 1, 4, 4, 1, 1, -1, -1, 13, -1]\n"
     ]
    }
   ],
   "source": [
    "def populate_b(ar,b):\n",
    "    stack=[]\n",
    "    stack.append(0)\n",
    "    \n",
    "    for i in range(1,len(ar)):\n",
    "        #\n",
    "        while len(stack)!=0 and ar[i]<ar[stack[-1]]:\n",
    "            #print(stack[-1])\n",
    "            b[stack[-1]]=ar[i]\n",
    "            stack.pop()\n",
    "            \n",
    "        \n",
    "        stack.append(i)\n",
    "        \n",
    "    \n",
    "    while len(stack)!=0:\n",
    "        #print(stack[-1])\n",
    "        b[stack[-1]]=-1\n",
    "        stack.pop()\n",
    "    \n",
    "    print(b)\n",
    "\n",
    "b=[0]*10\n",
    "populate_b([10,3,5,10,4,8,1,12,20,13],b)\n",
    "    \n",
    "    "
   ]
  },
  {
   "cell_type": "code",
   "execution_count": 19,
   "metadata": {},
   "outputs": [
    {
     "name": "stdout",
     "output_type": "stream",
     "text": [
      "[[...]]\n"
     ]
    }
   ],
   "source": [
    "def push(x):\n",
    "    s.append(x)\n",
    "    \n",
    "def pop():\n",
    "    if len(s)==0:\n",
    "        print(\"Empty\")\n",
    "        return\n",
    "    \n",
    "    print(s[-1])\n",
    "    del s[-1]\n",
    "    \n",
    "\n",
    "s=[]\n",
    "\n",
    "push(1)\n",
    "print(s)\n",
    "\n"
   ]
  },
  {
   "cell_type": "code",
   "execution_count": 22,
   "metadata": {},
   "outputs": [
    {
     "name": "stdout",
     "output_type": "stream",
     "text": [
      "4\n",
      "3\n",
      "2\n",
      "1\n"
     ]
    }
   ],
   "source": [
    "ar=[1,2,3,4]\n",
    "ar.reverse()\n",
    "for x in ar:\n",
    "    print(x)"
   ]
  },
  {
   "cell_type": "code",
   "execution_count": 41,
   "metadata": {},
   "outputs": [
    {
     "name": "stdout",
     "output_type": "stream",
     "text": [
      "cd .. .. os labs .. slides \n",
      "['cd', '..', '..', 'os', 'labs', '..', 'slides']\n"
     ]
    }
   ],
   "source": [
    "a=\"cd ../../os/labs/../slides/\"\n",
    "b=a.replace(\"/\",\" \")\n",
    "print(b)\n",
    "c=b.split()\n",
    "print(c)\n"
   ]
  },
  {
   "cell_type": "code",
   "execution_count": 43,
   "metadata": {},
   "outputs": [
    {
     "data": {
      "text/plain": [
       "122"
      ]
     },
     "execution_count": 43,
     "metadata": {},
     "output_type": "execute_result"
    }
   ],
   "source": [
    "ord('z')"
   ]
  },
  {
   "cell_type": "code",
   "execution_count": 85,
   "metadata": {},
   "outputs": [
    {
     "name": "stdout",
     "output_type": "stream",
     "text": [
      "/\n",
      "/sem/networks/labs/\n",
      "/sem/os/slides/\n",
      "/\n"
     ]
    }
   ],
   "source": [
    "pwdr=[]\n",
    "pwd=[]\n",
    "def pd():\n",
    "    if len(pwd)==0:\n",
    "        print(\"/\")\n",
    "        return\n",
    "        \n",
    "    else:\n",
    "        while len(pwd)!=0:\n",
    "            pwdr.append(pwd.pop())\n",
    "    \n",
    "    while len(pwdr)!=0:\n",
    "        x=pwdr.pop()\n",
    "        pwd.append(x)\n",
    "        print(\"/\",end=\"\")\n",
    "        print(x,end=\"\")\n",
    "    \n",
    "    print(\"/\")\n",
    "    \n",
    "    \n",
    "        \n",
    "\n",
    "def cd(cmd):\n",
    "    \n",
    "    \n",
    "    if cmd==\"cd /\":\n",
    "        while len(pwd)!=0:\n",
    "            pwd.pop()\n",
    "        \n",
    "        return\n",
    "        \n",
    "    \n",
    "    \n",
    "    \n",
    "    \n",
    "    \n",
    "    if cmd[3]==\"/\":\n",
    "        \n",
    "        cmnd=cmd.split(\"/\")\n",
    "        while len(pwd)!=0:\n",
    "            pwd.pop()\n",
    "    \n",
    "        for i in range(1,len(cmnd)-1):\n",
    "            if cmnd[i]==\"..\":\n",
    "                pwd.pop()\n",
    "            else:\n",
    "                pwd.append(cmnd[i])\n",
    "    \n",
    "    elif cmd[3]==\".\":\n",
    "        cmnd=cmd.split(\"/\")\n",
    "        pwd.pop()\n",
    "        \n",
    "        for i in range(1,len(cmnd)-1):\n",
    "            if cmnd[i]==\"..\":\n",
    "                pwd.pop()\n",
    "            else:\n",
    "                pwd.append(cmnd[i])\n",
    "            \n",
    "    \n",
    "    else:\n",
    "        cmnd=cmd.split(\"/\")\n",
    "        first=(cmnd[0].split())[1]\n",
    "        pwd.append(first)\n",
    "        for i in range(1,len(cmnd)-1):\n",
    "            if cmnd[i]==\"..\":\n",
    "                pwd.pop()\n",
    "            else:\n",
    "                pwd.append(cmnd[i])\n",
    "                \n",
    "# pwd\n",
    "# cd /Users/Guest/\n",
    "# pwd\n",
    "# cd ../Admin/Desktop/\n",
    "# pwd\n",
    "# cd /Users/Guest/Desktop/\n",
    "# cd os/labs/\n",
    "# pwd\n",
    "\n",
    "\n",
    "\n",
    "# cd /sem/networks/labs/\n",
    "# pwd\n",
    "# cd ../../os/labs/../slides/\n",
    "# pwd\n",
    "# cd /\n",
    "# pwd\n",
    "\n",
    "pd()\n",
    "cd(\"cd /sem/networks/labs/\")\n",
    "pd()\n",
    "cd(\"../../os/labs/../slides/\")\n",
    "pd()\n",
    "\n",
    "cd(\"cd /\")\n",
    "pd()\n",
    "\n",
    "\n",
    "\n",
    "\n",
    "\n",
    "                    \n",
    "       \n"
   ]
  },
  {
   "cell_type": "code",
   "execution_count": 95,
   "metadata": {},
   "outputs": [
    {
     "name": "stdout",
     "output_type": "stream",
     "text": [
      "54\n",
      "54\n",
      "54\n",
      "11\n",
      "9\n",
      "182\n"
     ]
    }
   ],
   "source": [
    "#4 10 54 11 8 7 9\n",
    "def maxsum(ar,k):\n",
    "    n=len(ar)\n",
    "    summ=0\n",
    "    #max=ar[0]\n",
    "    \n",
    "    for i in range(n-k+1):\n",
    "        maxe=ar[i]\n",
    "        \n",
    "        for j in range(i,i+k):\n",
    "            if ar[j]>maxe:\n",
    "                maxe=ar[j]\n",
    "            \n",
    "            \n",
    "        print(maxe)\n",
    "        summ+=maxe\n",
    "    \n",
    "    print(summ)\n",
    "        \n",
    "maxsum([4,10,54,11,8,7,9],3)\n",
    "        "
   ]
  }
 ],
 "metadata": {
  "kernelspec": {
   "display_name": "Python 3",
   "language": "python",
   "name": "python3"
  },
  "language_info": {
   "codemirror_mode": {
    "name": "ipython",
    "version": 3
   },
   "file_extension": ".py",
   "mimetype": "text/x-python",
   "name": "python",
   "nbconvert_exporter": "python",
   "pygments_lexer": "ipython3",
   "version": "3.7.0"
  }
 },
 "nbformat": 4,
 "nbformat_minor": 2
}
