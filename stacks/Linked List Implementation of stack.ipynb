{
 "cells": [
  {
   "cell_type": "code",
   "execution_count": 5,
   "metadata": {},
   "outputs": [
    {
     "name": "stdout",
     "output_type": "stream",
     "text": [
      "4 3 2 1 \n",
      "Top element is :  4\n",
      "2 1 \n",
      "stack underflow \n"
     ]
    }
   ],
   "source": [
    "class Node:\n",
    "    def __init__(self,data):\n",
    "        self.data=data\n",
    "        self.next=None\n",
    "\n",
    "\n",
    "class Stack:\n",
    "    \n",
    "    def __init__(self):\n",
    "        self.top=None\n",
    "    \n",
    "    def push(self,data):\n",
    "        \n",
    "        newnode=Node(data)\n",
    "        newnode.next=self.top\n",
    "        self.top=newnode\n",
    "    \n",
    "    def pop(self):\n",
    "        \n",
    "        if self.isEmpty():\n",
    "            print(\"stack underflow \")\n",
    "            return\n",
    "        \n",
    "        temp=self.top\n",
    "        self.top=self.top.next\n",
    "        \n",
    "        return temp\n",
    "    \n",
    "    def isEmpty(self):\n",
    "        \n",
    "        if self.top is None:\n",
    "            return True\n",
    "        \n",
    "        else :\n",
    "            return False\n",
    "        \n",
    "    \n",
    "    def peek(self):\n",
    "        \n",
    "        return self.top.data\n",
    "    \n",
    "    \n",
    "    def printStack(self):\n",
    "        \n",
    "        temp=self.top\n",
    "        while temp:\n",
    "            print(temp.data,end=\" \")\n",
    "            temp=temp.next\n",
    "        \n",
    "        print()\n",
    "    \n",
    "    \n",
    "    \n",
    "mystack=Stack()\n",
    "mystack.push(1)\n",
    "mystack.push(2)\n",
    "mystack.push(3)\n",
    "mystack.push(4)\n",
    "\n",
    "\n",
    "mystack.printStack()\n",
    "\n",
    "print(\"Top element is : \",mystack.peek())\n",
    "\n",
    "mystack.pop()\n",
    "mystack.pop()\n",
    "\n",
    "mystack.printStack()\n",
    "\n",
    "mystack.pop()\n",
    "mystack.pop()\n",
    "\n",
    "mystack.pop()\n",
    "    \n",
    "    "
   ]
  }
 ],
 "metadata": {
  "kernelspec": {
   "display_name": "Python 3",
   "language": "python",
   "name": "python3"
  },
  "language_info": {
   "codemirror_mode": {
    "name": "ipython",
    "version": 3
   },
   "file_extension": ".py",
   "mimetype": "text/x-python",
   "name": "python",
   "nbconvert_exporter": "python",
   "pygments_lexer": "ipython3",
   "version": "3.7.0"
  }
 },
 "nbformat": 4,
 "nbformat_minor": 2
}
