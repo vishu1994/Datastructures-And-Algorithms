{
 "cells": [
  {
   "cell_type": "code",
   "execution_count": 6,
   "metadata": {},
   "outputs": [
    {
     "name": "stdout",
     "output_type": "stream",
     "text": [
      "1 2 3 Queue is empty\n",
      "None "
     ]
    }
   ],
   "source": [
    "stack1=[]  #this stack is used for inserting into Queue\n",
    "stack2=[]  #This stack is used while making dequeue operations\n",
    "\n",
    "def enqueue(item):\n",
    "    stack1.append(item)\n",
    "    \n",
    "\n",
    "def dequeue():\n",
    "    \n",
    "    if len(stack1) is 0 and len(stack2) is 0:\n",
    "        print(\"Queue is empty\")\n",
    "        return\n",
    "    \n",
    "    if len(stack2) is 0:\n",
    "        \n",
    "        while len(stack1):\n",
    "            stack2.append(stack1.pop())\n",
    "    \n",
    "    return stack2.pop()\n",
    "\n",
    "\n",
    "\n",
    "enqueue(1)\n",
    "enqueue(2)\n",
    "enqueue(3)\n",
    "\n",
    "print(dequeue(),end=\" \")\n",
    "print(dequeue(),end=\" \")\n",
    "print(dequeue(),end=\" \")\n",
    "print(dequeue(),end=\" \")\n",
    "\n"
   ]
  }
 ],
 "metadata": {
  "kernelspec": {
   "display_name": "Python 3",
   "language": "python",
   "name": "python3"
  },
  "language_info": {
   "codemirror_mode": {
    "name": "ipython",
    "version": 3
   },
   "file_extension": ".py",
   "mimetype": "text/x-python",
   "name": "python",
   "nbconvert_exporter": "python",
   "pygments_lexer": "ipython3",
   "version": "3.7.0"
  }
 },
 "nbformat": 4,
 "nbformat_minor": 2
}
