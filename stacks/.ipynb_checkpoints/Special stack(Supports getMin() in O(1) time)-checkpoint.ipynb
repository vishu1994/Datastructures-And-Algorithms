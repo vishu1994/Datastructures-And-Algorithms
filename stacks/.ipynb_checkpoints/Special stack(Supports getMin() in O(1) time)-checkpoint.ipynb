{
 "cells": [
  {
   "cell_type": "code",
   "execution_count": 1,
   "metadata": {},
   "outputs": [
    {
     "name": "stdout",
     "output_type": "stream",
     "text": [
      "min element in stack is :  18\n",
      "The Min element in stack is :  15\n",
      "The Min element in stack is :  18\n",
      "The Min element in stack is :  18\n"
     ]
    }
   ],
   "source": [
    "auxstack=[] #this stack keeps track of the min element of the special stack\n",
    "specialstack=[]\n",
    "\n",
    "def push(item):\n",
    "    \n",
    "    specialstack.append(item)\n",
    "    if len(auxstack) is 0:\n",
    "        auxstack.append(item)\n",
    "    \n",
    "    else:\n",
    "        if item < auxstack[0]:\n",
    "            auxstack.append(item)\n",
    "        \n",
    "        \n",
    "\n",
    "\n",
    "def pop():\n",
    "    \n",
    "    if len(specialstack) is 0:\n",
    "        return\n",
    "    \n",
    "    else:\n",
    "        if specialstack.pop() is auxstack[-1]:\n",
    "            auxstack.pop()\n",
    "\n",
    "    \n",
    "def getMin():\n",
    "    \n",
    "    return auxstack[-1]\n",
    "\n",
    "\n",
    "\n",
    "push(18)\n",
    "push(19)\n",
    "\n",
    "print(\"min element in stack is : \",getMin())\n",
    "\n",
    "push(29)\n",
    "push(15)\n",
    "\n",
    "print(\"The Min element in stack is : \",getMin())\n",
    "\n",
    "push(16)\n",
    "\n",
    "pop()\n",
    "pop()\n",
    "print(\"The Min element in stack is : \",getMin())\n",
    "\n",
    "pop()\n",
    "pop()\n",
    "\n",
    "print(\"The Min element in stack is : \",getMin())\n",
    "\n",
    "\n"
   ]
  }
 ],
 "metadata": {
  "kernelspec": {
   "display_name": "Python 3",
   "language": "python",
   "name": "python3"
  },
  "language_info": {
   "codemirror_mode": {
    "name": "ipython",
    "version": 3
   },
   "file_extension": ".py",
   "mimetype": "text/x-python",
   "name": "python",
   "nbconvert_exporter": "python",
   "pygments_lexer": "ipython3",
   "version": "3.7.0"
  }
 },
 "nbformat": 4,
 "nbformat_minor": 2
}
