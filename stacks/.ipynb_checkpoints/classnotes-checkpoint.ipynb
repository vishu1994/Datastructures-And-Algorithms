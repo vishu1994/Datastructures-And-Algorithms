{
 "cells": [
  {
   "cell_type": "markdown",
   "metadata": {},
   "source": [
    "### Given an array \"a\"  of size n and array \"b\"....\n",
    "### Populate b[i]=smallest element in array \"a\" from i+1 to n-1"
   ]
  },
  {
   "cell_type": "code",
   "execution_count": 16,
   "metadata": {},
   "outputs": [
    {
     "name": "stdout",
     "output_type": "stream",
     "text": [
      "[3, 1, 4, 4, 1, 1, -1, -1, 13, -1]\n"
     ]
    }
   ],
   "source": [
    "def populate_b(ar,b):\n",
    "    stack=[]\n",
    "    stack.append(0)\n",
    "    \n",
    "    for i in range(1,len(ar)):\n",
    "        #\n",
    "        while len(stack)!=0 and ar[i]<ar[stack[-1]]:\n",
    "            #print(stack[-1])\n",
    "            b[stack[-1]]=ar[i]\n",
    "            stack.pop()\n",
    "            \n",
    "        \n",
    "        stack.append(i)\n",
    "        \n",
    "    \n",
    "    while len(stack)!=0:\n",
    "        #print(stack[-1])\n",
    "        b[stack[-1]]=-1\n",
    "        stack.pop()\n",
    "    \n",
    "    print(b)\n",
    "\n",
    "b=[0]*10\n",
    "populate_b([10,3,5,10,4,8,1,12,20,13],b)\n",
    "    \n",
    "    "
   ]
  }
 ],
 "metadata": {
  "kernelspec": {
   "display_name": "Python 3",
   "language": "python",
   "name": "python3"
  },
  "language_info": {
   "codemirror_mode": {
    "name": "ipython",
    "version": 3
   },
   "file_extension": ".py",
   "mimetype": "text/x-python",
   "name": "python",
   "nbconvert_exporter": "python",
   "pygments_lexer": "ipython3",
   "version": "3.7.0"
  }
 },
 "nbformat": 4,
 "nbformat_minor": 2
}
