{
 "cells": [
  {
   "cell_type": "code",
   "execution_count": 45,
   "metadata": {},
   "outputs": [],
   "source": [
    "import ctypes\n",
    "class DynamicArray:\n",
    "    \n",
    "    def __init__(self):\n",
    "        #counts total number of elements present..\n",
    "        self.n=0\n",
    "        #current size of array\n",
    "        self.capacity=1\n",
    "        #our dynamic array\n",
    "        self.arr=self.makeArray(self.capacity)\n",
    "        \n",
    "        \n",
    "    def length(self):\n",
    "        return self.n\n",
    "    \n",
    "    def getItem(self,index):\n",
    "        \n",
    "        return self.arr[index]\n",
    "    \n",
    "    \n",
    "    def append(self,item):\n",
    "        \n",
    "        if self.length()==self.capacity:\n",
    "            self.resize(2*self.capacity)\n",
    "            \n",
    "            \n",
    "        self.arr[self.n]=item\n",
    "        self.n+=1\n",
    "        \n",
    "        \n",
    "     \n",
    "    def insertAt(self,item,index):\n",
    "        \n",
    "        if index<0 or index>self.n:\n",
    "            print(\"please enter appropriate index..\")\n",
    "            return\n",
    "        \n",
    "        if self.length()==self.capacity:\n",
    "            self.resize(2*self.capacity)\n",
    "            \n",
    "        \n",
    "        for i in range(self.n-1,index-1,-1):\n",
    "            self.arr[i+1]=self.arr[i]\n",
    "            \n",
    "        \n",
    "        self.arr[index]=item\n",
    "        self.n+=1\n",
    "        \n",
    "    \n",
    "    \n",
    "    def delete(self):\n",
    "        \n",
    "        if self.length()==0:\n",
    "            print(\"Array is empty deletion not Possible\")\n",
    "            return\n",
    "        \n",
    "        self.arr[self.n-1]=0\n",
    "        self.n-=1\n",
    "        \n",
    "        \n",
    "        \n",
    "    \n",
    "    def removeAt(self,index):\n",
    "        \n",
    "        if self.length()==0:\n",
    "            print(\"Array is empty deletion not Possible\")\n",
    "            return\n",
    "        \n",
    "        \n",
    "        if index<0 or index>=self.n:\n",
    "            return IndexError(\"Index out of bound....deletion not possible\")\n",
    "        \n",
    "        \n",
    "        if index==self.n-1:\n",
    "            self.arr[index]=0\n",
    "            self.n-=1\n",
    "            return\n",
    "        \n",
    "        \n",
    "        for i in range(index,self.n-1):\n",
    "            self.arr[i]=self.arr[i+1]\n",
    "            \n",
    "            \n",
    "        \n",
    "        self.arr[self.n-1]=0\n",
    "        self.n-=1\n",
    "            \n",
    "            \n",
    "        \n",
    "        \n",
    "            \n",
    "    \n",
    "    \"\"\"\n",
    "    This function creates a new array which is double\n",
    "    the size of previous array and copy all the elements of \n",
    "    previous array into the new array and finally returns new array.\n",
    "    \"\"\"\n",
    "    def resize(self,new_cap):\n",
    "        b=self.makeArray(new_cap)\n",
    "        \n",
    "        for i in range(self.length()):\n",
    "            b[i]=self.arr[i]\n",
    "            \n",
    "        \n",
    "        self.arr=b\n",
    "        self.capacity=new_cap\n",
    "        \n",
    "        \n",
    "    \n",
    "    def makeArray(self,new_cap):\n",
    "        \n",
    "        return (new_cap*ctypes.py_object)()\n",
    "    \n",
    "    \n",
    "    \n",
    "    def display(self):\n",
    "        \n",
    "        for i in range(self.length()):\n",
    "            print(self.arr[i],end=\" \")\n",
    "\n",
    "        \n",
    "    \n",
    "        \n",
    "    "
   ]
  },
  {
   "cell_type": "code",
   "execution_count": 46,
   "metadata": {},
   "outputs": [],
   "source": [
    "myArr=DynamicArray()"
   ]
  },
  {
   "cell_type": "code",
   "execution_count": 47,
   "metadata": {},
   "outputs": [],
   "source": [
    "myArr.append(1)"
   ]
  },
  {
   "cell_type": "code",
   "execution_count": 18,
   "metadata": {},
   "outputs": [
    {
     "name": "stdout",
     "output_type": "stream",
     "text": [
      "1 "
     ]
    }
   ],
   "source": [
    "myArr.display()"
   ]
  },
  {
   "cell_type": "code",
   "execution_count": 48,
   "metadata": {},
   "outputs": [],
   "source": [
    "myArr.append(2)\n",
    "myArr.append(3)\n",
    "myArr.append(4)"
   ]
  },
  {
   "cell_type": "code",
   "execution_count": 41,
   "metadata": {},
   "outputs": [
    {
     "name": "stdout",
     "output_type": "stream",
     "text": [
      "1 2 3 4 "
     ]
    }
   ],
   "source": [
    "myArr.display()"
   ]
  },
  {
   "cell_type": "code",
   "execution_count": 21,
   "metadata": {},
   "outputs": [
    {
     "data": {
      "text/plain": [
       "4"
      ]
     },
     "execution_count": 21,
     "metadata": {},
     "output_type": "execute_result"
    }
   ],
   "source": [
    "myArr.getItem(3)"
   ]
  },
  {
   "cell_type": "code",
   "execution_count": 34,
   "metadata": {},
   "outputs": [],
   "source": [
    "myArr.insertAt(100,1)"
   ]
  },
  {
   "cell_type": "code",
   "execution_count": 35,
   "metadata": {},
   "outputs": [
    {
     "name": "stdout",
     "output_type": "stream",
     "text": [
      "1 100 2 3 4 "
     ]
    }
   ],
   "source": [
    "myArr.display()"
   ]
  },
  {
   "cell_type": "code",
   "execution_count": 36,
   "metadata": {},
   "outputs": [
    {
     "name": "stdout",
     "output_type": "stream",
     "text": [
      "1 100 2 3 200 4 "
     ]
    }
   ],
   "source": [
    "myArr.insertAt(200,4)\n",
    "myArr.display()"
   ]
  },
  {
   "cell_type": "code",
   "execution_count": 42,
   "metadata": {},
   "outputs": [
    {
     "name": "stdout",
     "output_type": "stream",
     "text": [
      "1 2 3 "
     ]
    }
   ],
   "source": [
    "myArr.delete()\n",
    "myArr.display()"
   ]
  },
  {
   "cell_type": "code",
   "execution_count": 43,
   "metadata": {},
   "outputs": [],
   "source": [
    "myArr.delete()\n",
    "myArr.delete()\n",
    "myArr.delete()\n"
   ]
  },
  {
   "cell_type": "code",
   "execution_count": 44,
   "metadata": {},
   "outputs": [
    {
     "name": "stdout",
     "output_type": "stream",
     "text": [
      "Array is empty deletion not Possible\n"
     ]
    }
   ],
   "source": [
    "myArr.delete()"
   ]
  },
  {
   "cell_type": "code",
   "execution_count": 49,
   "metadata": {},
   "outputs": [
    {
     "name": "stdout",
     "output_type": "stream",
     "text": [
      "2 3 4 "
     ]
    }
   ],
   "source": [
    "myArr.removeAt(0)\n",
    "myArr.display()"
   ]
  },
  {
   "cell_type": "code",
   "execution_count": 50,
   "metadata": {},
   "outputs": [
    {
     "data": {
      "text/plain": [
       "IndexError('Index out of bound....deletion not possible')"
      ]
     },
     "execution_count": 50,
     "metadata": {},
     "output_type": "execute_result"
    }
   ],
   "source": [
    "myArr.removeAt(3)"
   ]
  },
  {
   "cell_type": "code",
   "execution_count": 51,
   "metadata": {},
   "outputs": [
    {
     "name": "stdout",
     "output_type": "stream",
     "text": [
      "2 3 "
     ]
    }
   ],
   "source": [
    "myArr.removeAt(2)\n",
    "myArr.display()"
   ]
  },
  {
   "cell_type": "code",
   "execution_count": null,
   "metadata": {},
   "outputs": [],
   "source": []
  }
 ],
 "metadata": {
  "kernelspec": {
   "display_name": "Python 3",
   "language": "python",
   "name": "python3"
  },
  "language_info": {
   "codemirror_mode": {
    "name": "ipython",
    "version": 3
   },
   "file_extension": ".py",
   "mimetype": "text/x-python",
   "name": "python",
   "nbconvert_exporter": "python",
   "pygments_lexer": "ipython3",
   "version": "3.6.7"
  }
 },
 "nbformat": 4,
 "nbformat_minor": 2
}
