{
 "cells": [
  {
   "cell_type": "markdown",
   "metadata": {},
   "source": [
    "### Number of valid subarrays having equal number of 0's and 1's"
   ]
  },
  {
   "cell_type": "code",
   "execution_count": 10,
   "metadata": {},
   "outputs": [
    {
     "name": "stdout",
     "output_type": "stream",
     "text": [
      "0\n"
     ]
    }
   ],
   "source": [
    "import math as m\n",
    "\n",
    "def ncr(n,r):\n",
    "    return m.factorial(n)//(m.factorial(r)*m.factorial(n-r))\n",
    "\n",
    "\n",
    "def validsubarrays(ar):\n",
    "    \n",
    "    #replacing 0's with -1\n",
    "    for i in range(len(ar)):\n",
    "        if ar[i]==0:\n",
    "            ar[i]=-1\n",
    "    \n",
    "    ar.insert(0,0)\n",
    "    \n",
    "    #print(ar)\n",
    "    \n",
    "    #calculating prefix sum now..\n",
    "    for i in range(1,len(ar)):\n",
    "        ar[i]=ar[i-1]+ar[i]\n",
    "    \n",
    "    #print(ar)\n",
    "    \n",
    "    h={}\n",
    "    \n",
    "    for el in ar:\n",
    "        if el in h:\n",
    "            h[el]+=1\n",
    "        \n",
    "        else:\n",
    "            h[el]=1\n",
    "    \n",
    "    cnt=0\n",
    "    for val in h.values():\n",
    "        \n",
    "        if val > 1:\n",
    "            cnt+=ncr(val,2)\n",
    "    \n",
    "    \n",
    "    \n",
    "    return cnt\n",
    "            \n",
    "            \n",
    "    \n",
    "print(validsubarrays([1,1,1,1]))    \n",
    "            \n",
    "    \n",
    "\n",
    "    \n",
    "\n",
    "    \n",
    "    \n",
    "        \n",
    "    \n",
    "        "
   ]
  },
  {
   "cell_type": "code",
   "execution_count": 7,
   "metadata": {},
   "outputs": [
    {
     "name": "stdout",
     "output_type": "stream",
     "text": [
      "2\n",
      "3\n",
      "4\n"
     ]
    }
   ],
   "source": [
    "dic={1:2,2:3,3:4}\n",
    "\n",
    "for val in dic.values():\n",
    "    print(val)"
   ]
  },
  {
   "cell_type": "code",
   "execution_count": 25,
   "metadata": {},
   "outputs": [
    {
     "name": "stdout",
     "output_type": "stream",
     "text": [
      "                                  \n",
      "0 0 0 \n"
     ]
    }
   ],
   "source": [
    "def wvc(s):\n",
    "    w=0\n",
    "    v=0\n",
    "    co=0\n",
    "    mylist=s.lstrip().split()\n",
    "    \n",
    "    if len(mylist)==0:\n",
    "        print(\"0 \"+\"0 \"+\"0 \")\n",
    "        return\n",
    "    \n",
    "    for word in mylist:\n",
    "        w+=1\n",
    "        for c in word.lower():\n",
    "            if c in ['a','e','i','o','u']:\n",
    "                v+=1\n",
    "            \n",
    "            else:\n",
    "                co+=1\n",
    "                \n",
    "    \n",
    "    print(w,end=\" \")\n",
    "    print(v,end=\" \")\n",
    "    print(co,end=\" \")\n",
    "    \n",
    "s=input()\n",
    "\n",
    "wvc(s)\n",
    "\n"
   ]
  },
  {
   "cell_type": "code",
   "execution_count": 30,
   "metadata": {},
   "outputs": [
    {
     "name": "stdout",
     "output_type": "stream",
     "text": [
      "97\n",
      "98\n",
      "99\n",
      "100\n"
     ]
    }
   ],
   "source": [
    "mystr='abcd'\n",
    "\n",
    "for i in mystr:\n",
    "    print(ord(i))\n"
   ]
  },
  {
   "cell_type": "code",
   "execution_count": 46,
   "metadata": {},
   "outputs": [
    {
     "name": "stdout",
     "output_type": "stream",
     "text": [
      "36554056\n",
      "9\n"
     ]
    }
   ],
   "source": [
    "def rabinkarp(a,b):\n",
    "    n=len(a)\n",
    "    m=len(b)\n",
    "    p=103\n",
    "    k=int(1e9+7)\n",
    "    \n",
    "    #populate power array\n",
    "    pwr=[]\n",
    "    pwr.append(1)\n",
    "    for i in range(1,m+1):\n",
    "        pw=int((pwr[i-1]*p)%k)\n",
    "        pwr.append(pw)\n",
    "    \n",
    "    \n",
    "    #calculate hash value for string b...\n",
    "    ha=0\n",
    "    hb=0\n",
    "    cnt=0\n",
    "    \n",
    "    for i in range(m):\n",
    "        hb=int((hb+ord(b[i])*pwr[m-i])%k)\n",
    "        \n",
    "    \n",
    "    print(hb)\n",
    "     \n",
    "    \n",
    "    #compute hash value of the first substring of A.....\n",
    "    for i in range(m):\n",
    "        ha=int((ha+ord(a[i])*pwr[m-i])%k)\n",
    "        \n",
    "    \n",
    "    if ha==hb:\n",
    "        #print(\"first sub\")\n",
    "        cnt+=1\n",
    "    \n",
    "    \n",
    "    for i in range(m,n):\n",
    "        ha=int((((ha-(ord(a[i-m])*pwr[m])+ord(a[i]))*p)+k)%k)\n",
    "        \n",
    "        if ha==hb:\n",
    "            cnt+=1\n",
    "    \n",
    "    \n",
    "    print(cnt)\n",
    "        \n",
    "    \n",
    "\n",
    "\n",
    "    \n",
    "\n",
    "    \n",
    "rabinkarp(\"yalgoalgoalgopalgoaxalgoasaxalgolalgoalgoalgo\",\"algo\")"
   ]
  },
  {
   "cell_type": "code",
   "execution_count": 47,
   "metadata": {},
   "outputs": [
    {
     "name": "stdout",
     "output_type": "stream",
     "text": [
      "hi this\n"
     ]
    },
    {
     "data": {
      "text/plain": [
       "['hi', 'this']"
      ]
     },
     "execution_count": 47,
     "metadata": {},
     "output_type": "execute_result"
    }
   ],
   "source": [
    "mystr=input().split()\n",
    "mystr"
   ]
  },
  {
   "cell_type": "code",
   "execution_count": 48,
   "metadata": {},
   "outputs": [
    {
     "name": "stdout",
     "output_type": "stream",
     "text": [
      "10\n",
      "9\n",
      "8\n",
      "7\n",
      "6\n",
      "5\n",
      "4\n",
      "3\n",
      "2\n",
      "1\n",
      "0\n"
     ]
    }
   ],
   "source": [
    "for i in range(10,-1,-1):\n",
    "    print(i)"
   ]
  },
  {
   "cell_type": "markdown",
   "metadata": {},
   "source": [
    "### Number of unique elements in each subarray of size \"k\""
   ]
  },
  {
   "cell_type": "code",
   "execution_count": 7,
   "metadata": {},
   "outputs": [
    {
     "name": "stdout",
     "output_type": "stream",
     "text": [
      "3\n",
      "2\n",
      "3\n",
      "3\n",
      "4\n",
      "4\n"
     ]
    }
   ],
   "source": [
    "def unique(ar,k):\n",
    "    n=len(ar)\n",
    "    d={}\n",
    "    \n",
    "    for i in range(k):\n",
    "        if ar[i] in d:\n",
    "            d[ar[i]]+=1\n",
    "        \n",
    "        else:\n",
    "            d[ar[i]]=1\n",
    "    \n",
    "    print(len(d))\n",
    "    \n",
    "    \n",
    "    for i in range(k,n):\n",
    "        \n",
    "        if d[ar[i-k]] > 1:\n",
    "            d[ar[i-k]]-=1\n",
    "            \n",
    "        \n",
    "        else:\n",
    "            del d[ar[i-k]]\n",
    "        \n",
    "        if ar[i] in d:\n",
    "            d[ar[i]]+=1\n",
    "        \n",
    "        else:\n",
    "            d[ar[i]]=1\n",
    "            \n",
    "        \n",
    "        print(len(d))\n",
    "        \n",
    "        \n",
    "        \n",
    "    \n",
    "\n",
    "unique([5,3,10,3,10,-2,3,-3,12],4)\n",
    "\n",
    "\n",
    "\n"
   ]
  },
  {
   "cell_type": "code",
   "execution_count": 9,
   "metadata": {},
   "outputs": [
    {
     "name": "stdout",
     "output_type": "stream",
     "text": [
      "[3, 3, 7, 7, 7]\n",
      "[7, 7, 7, 7, 7]\n",
      "4\n"
     ]
    }
   ],
   "source": [
    "pre=[]\n",
    "suf=[]\n",
    "def prefsufmax(ar):\n",
    "    n=len(ar)\n",
    "    pre.append(ar[0])\n",
    "    suf.append(ar[n-1])\n",
    "    \n",
    "    for i in range(1,n):\n",
    "        if ar[i]>pre[i-1]:\n",
    "            pre.append(ar[i])\n",
    "            \n",
    "        else:\n",
    "            pre.append(pre[i-1])\n",
    "            \n",
    "    \n",
    "    for i in range(n-2,-1,-1):\n",
    "        if ar[i] >suf[0]:\n",
    "            suf.insert(0,ar[i])\n",
    "        \n",
    "        else:\n",
    "            suf.insert(0,suf[0])\n",
    "            \n",
    "    print(pre)\n",
    "    print(suf)\n",
    "            \n",
    "def minof(a,b):\n",
    "    if a<b:\n",
    "        return a\n",
    "    else:\n",
    "        return b\n",
    "    \n",
    "    \n",
    "def totalwater(ar):\n",
    "    n=len(ar)\n",
    "    prefsufmax(ar)\n",
    "    s=0\n",
    "    for i in range(n):\n",
    "        s+=minof(pre[i],suf[i])-ar[i]\n",
    "    \n",
    "    \n",
    "    print(s)\n",
    "    \n",
    "\n",
    "totalwater([3,2,7,4,7])"
   ]
  },
  {
   "cell_type": "code",
   "execution_count": 12,
   "metadata": {},
   "outputs": [
    {
     "data": {
      "text/plain": [
       "97"
      ]
     },
     "execution_count": 12,
     "metadata": {},
     "output_type": "execute_result"
    }
   ],
   "source": [
    "ord('a')"
   ]
  },
  {
   "cell_type": "code",
   "execution_count": 9,
   "metadata": {},
   "outputs": [
    {
     "name": "stdout",
     "output_type": "stream",
     "text": [
      "6\n"
     ]
    }
   ],
   "source": [
    "def coverPoints(A,B):\n",
    "    steps=0\n",
    "    \n",
    "    for i in range(len(A)-1):\n",
    "        if A[i]==A[i+1]:\n",
    "            steps+=abs(B[i+1]-B[i])\n",
    "        \n",
    "        elif B[i]==B[i+1]:\n",
    "            steps+=abs(A[i+1]-A[i])\n",
    "            \n",
    "            \n",
    "        else:\n",
    "            s1=abs(A[i+1]-A[i])\n",
    "            s2=abs(B[i+1]-B[i])\n",
    "            \n",
    "            \n",
    "            \n",
    "            if s1>s2:\n",
    "                steps+=s1\n",
    "            \n",
    "            else:\n",
    "                steps+=s2\n",
    "    \n",
    "    \n",
    "    print(steps)\n",
    "\n",
    "coverPoints([-7,-13],[1,-5])\n",
    "        "
   ]
  },
  {
   "cell_type": "code",
   "execution_count": 11,
   "metadata": {
    "scrolled": true
   },
   "outputs": [
    {
     "name": "stdout",
     "output_type": "stream",
     "text": [
      "1\n",
      "2\n",
      "2\n",
      "3\n",
      "3\n",
      "4\n"
     ]
    }
   ],
   "source": [
    "def addone(self,A,i):\n",
    "    s=A[i]+1\n",
    "    if i==0 and s==10:\n",
    "        A[0]=0\n",
    "        A.insert(0,1)\n",
    "        return\n",
    "        \n",
    "    elif s<10:\n",
    "        A[i]=s\n",
    "        return\n",
    "        \n",
    "    else:\n",
    "        A[i]=0\n",
    "        return self.addone(A,i-1)\n",
    "        \n",
    "            \n",
    "        \n",
    "        \n",
    "    \n",
    "def plusOne(self, A):\n",
    "    n=len(A)\n",
    "        \n",
    "    for i in range(n-1):\n",
    "        if A[i]!=0:\n",
    "            break\n",
    "            \n",
    "        if A[i]==0 and  A[i+1]!=0:\n",
    "            del A[i]\n",
    "            break\n",
    "            \n",
    "        elif A[i]==0:\n",
    "            del A[i]\n",
    "        \n",
    "    n=len(A)\n",
    "        \n",
    "    addone(A,n-1)\n",
    "            \n",
    "    return A\n"
   ]
  },
  {
   "cell_type": "code",
   "execution_count": 21,
   "metadata": {},
   "outputs": [],
   "source": [
    "import numpy"
   ]
  },
  {
   "cell_type": "code",
   "execution_count": 38,
   "metadata": {},
   "outputs": [
    {
     "data": {
      "text/plain": [
       "[4, 4, 6, 0, 9, 6, 5, 1]"
      ]
     },
     "execution_count": 38,
     "metadata": {},
     "output_type": "execute_result"
    }
   ],
   "source": [
    "\n",
    "A=[0, 0, 4, 4, 6, 0, 9, 6, 5, 1]\n",
    "n=len(A)\n",
    "i=0\n",
    "while i<n-1:\n",
    "    if A[i]==0:\n",
    "        A.remove(0)\n",
    "        i-=1\n",
    "    \n",
    "    elif A[i]!=0:\n",
    "        break\n",
    "    \n",
    "    i+=1\n",
    "    \n",
    "A"
   ]
  },
  {
   "cell_type": "code",
   "execution_count": 67,
   "metadata": {},
   "outputs": [
    {
     "name": "stdout",
     "output_type": "stream",
     "text": [
      "Yes\n"
     ]
    }
   ],
   "source": [
    "subse1=[]\n",
    "def printSubsequences(arr, index, subarr): \n",
    "      \n",
    "    # Print the subsequence when reach  \n",
    "    # the leaf of recursion tree \n",
    "    if index == len(arr): \n",
    "          \n",
    "        # Condition to avoid printing \n",
    "        # empty subsequence \n",
    "        if len(subarr) != 0: \n",
    "            subse1.append(subarr) \n",
    "      \n",
    "    else: \n",
    "        # Subsequence without including  \n",
    "        # the element at current index \n",
    "        printSubsequences(arr, index + 1, subarr) \n",
    "          \n",
    "        # Subsequence including the element \n",
    "        # at current index \n",
    "        printSubsequences(arr, index + 1,subarr+arr[index]) \n",
    "      \n",
    "    return\n",
    "          \n",
    "arr = \"gojdaoncptdhzay\" \n",
    "  \n",
    "printSubsequences(arr, 0, \"\") \n",
    "if \"data\" in subse1:\n",
    "    print(\"Yes\")"
   ]
  },
  {
   "cell_type": "code",
   "execution_count": 69,
   "metadata": {},
   "outputs": [
    {
     "name": "stdout",
     "output_type": "stream",
     "text": [
      "[1, 2, 3, 4, 5, 6, 7, 8, 9]\n"
     ]
    }
   ],
   "source": [
    "print()"
   ]
  },
  {
   "cell_type": "code",
   "execution_count": 71,
   "metadata": {},
   "outputs": [
    {
     "name": "stdout",
     "output_type": "stream",
     "text": [
      "[-10, -9, -8, -7, -6, -5, -4, -3, -2, -1, 0, 1, 2, 3, 4, 5, 6, 7, 8, 9]\n"
     ]
    }
   ],
   "source": [
    "a=list(range(-10,10))\n",
    "b=1\n",
    "print(a)"
   ]
  },
  {
   "cell_type": "code",
   "execution_count": 72,
   "metadata": {},
   "outputs": [
    {
     "name": "stdout",
     "output_type": "stream",
     "text": [
      "Yes\n"
     ]
    }
   ],
   "source": [
    "def isSubSequence(str1,str2): \n",
    "    m=len(str1)\n",
    "    n=len(str2)\n",
    "    j = 0    \n",
    "    i=0\n",
    "      \n",
    "    while j<m and i<n: \n",
    "        if str1[j] == str2[i]:     \n",
    "            j = j+1    \n",
    "        i = i + 1\n",
    "          \n",
    "    \n",
    "    if j==m:\n",
    "        print(\"Yes\")\n",
    "    \n",
    "    else:\n",
    "        print(\"No\")\n",
    "        \n",
    "\n",
    "isSubSequence(\"data\",\"gojdaoncptdhzay\")"
   ]
  },
  {
   "cell_type": "code",
   "execution_count": 74,
   "metadata": {},
   "outputs": [
    {
     "name": "stdout",
     "output_type": "stream",
     "text": [
      "2\n"
     ]
    }
   ],
   "source": [
    "import math \n",
    "def CountSquares(a, b): \n",
    "    return (math.floor(math.sqrt(b)) - math.ceil(math.sqrt(a)) + 1) \n",
    "  \n",
    "# Driver Code \n",
    "a = 3\n",
    "b = 9\n",
    "print(int(CountSquares(a, b)))"
   ]
  },
  {
   "cell_type": "code",
   "execution_count": null,
   "metadata": {},
   "outputs": [],
   "source": [
    "30 50\n",
    "1 70\n",
    "20 25\n",
    "50 100\n",
    "80 90\n",
    "15 65\n",
    "25 70"
   ]
  },
  {
   "cell_type": "code",
   "execution_count": 76,
   "metadata": {},
   "outputs": [
    {
     "name": "stdout",
     "output_type": "stream",
     "text": [
      "30 1 20 {30: 50, 1: 70, 20: 25}\n"
     ]
    }
   ],
   "source": [
    "from collections import \n",
    "d=\n",
    "d[30]=50\n",
    "d[1]=70\n",
    "d[20]=25\n",
    "\n",
    "for k,v in d.items():\n",
    "    print(k,end=\" \")\n",
    "print(d)    "
   ]
  },
  {
   "cell_type": "code",
   "execution_count": 77,
   "metadata": {},
   "outputs": [
    {
     "name": "stdout",
     "output_type": "stream",
     "text": [
      "[13, 5, 10, 2, 12, 4, 9, 1, 12, 4, 9, 1, 11, 3, 8, 0]\n"
     ]
    }
   ],
   "source": [
    "subs=[]\n",
    "def subsetSums(arr, l, r, s = 0): \n",
    "      \n",
    "    # Print current subset \n",
    "    if l > r: \n",
    "        subs.append(s) \n",
    "        return\n",
    "  \n",
    "    # Subset including arr[l] \n",
    "    subsetSums(arr, l + 1, r, s + arr[l]) \n",
    "  \n",
    "    # Subset excluding arr[l] \n",
    "    subsetSums(arr, l + 1, r, s) \n",
    "  \n",
    "# Driver code \n",
    "arr = [1,1,3,8] \n",
    "n = len(arr) \n",
    "subsetSums(arr, 0, n - 1)\n",
    "print(subs)"
   ]
  },
  {
   "cell_type": "code",
   "execution_count": 45,
   "metadata": {},
   "outputs": [
    {
     "data": {
      "text/plain": [
       "[1, 0, 0, 0]"
      ]
     },
     "execution_count": 45,
     "metadata": {},
     "output_type": "execute_result"
    }
   ],
   "source": [
    "def plusOne(A):\n",
    "        val = 1;\n",
    "        for i in range(len(A),0,-1):\n",
    "            val = val + A[i-1]\n",
    "            borrow = int(val/10)\n",
    "            if borrow == 0:\n",
    "                A[i-1] = val\n",
    "                break;\n",
    "            else:\n",
    "                A[i-1] = val%10\n",
    "                val = borrow\n",
    "        A = [borrow] + A\n",
    "        while A[0]==0:\n",
    "            del A[0]\n",
    "        return A\n",
    "\n",
    "plusOne([9,9,9])"
   ]
  },
  {
   "cell_type": "code",
   "execution_count": 47,
   "metadata": {},
   "outputs": [
    {
     "data": {
      "text/plain": [
       "[1, 1, 2, 3]"
      ]
     },
     "execution_count": 47,
     "metadata": {},
     "output_type": "execute_result"
    }
   ],
   "source": [
    "a=[1,2,3]\n",
    "a=[1]+a\n",
    "a"
   ]
  },
  {
   "cell_type": "code",
   "execution_count": 7,
   "metadata": {},
   "outputs": [
    {
     "name": "stdout",
     "output_type": "stream",
     "text": [
      "100\n",
      "2\n",
      "109\n",
      "4\n",
      "5\n",
      "1000\n"
     ]
    }
   ],
   "source": [
    "from collections import OrderedDict\n",
    "d={}\n",
    "\n",
    "a=[100,2,109,4,5,1000]\n",
    "for i in a:\n",
    "    d[i]=1\n",
    "\n",
    "for key in d:\n",
    "    print(key)\n",
    "\n",
    "\n"
   ]
  },
  {
   "cell_type": "code",
   "execution_count": 8,
   "metadata": {},
   "outputs": [],
   "source": [
    "del d[109]"
   ]
  },
  {
   "cell_type": "code",
   "execution_count": 9,
   "metadata": {},
   "outputs": [
    {
     "name": "stdout",
     "output_type": "stream",
     "text": [
      "100\n",
      "2\n",
      "4\n",
      "5\n",
      "1000\n"
     ]
    }
   ],
   "source": [
    "for key in d:\n",
    "    print(key)"
   ]
  },
  {
   "cell_type": "code",
   "execution_count": 11,
   "metadata": {},
   "outputs": [
    {
     "name": "stdout",
     "output_type": "stream",
     "text": [
      "1\n",
      "10\n",
      "2\n",
      "12\n"
     ]
    }
   ],
   "source": [
    "mydict={}\n",
    "\n",
    "mydict[1]=100\n",
    "mydict[10]=101\n",
    "mydict[2]=103\n",
    "mydict[12]=104\n",
    "\n",
    "for k in mydict:\n",
    "    print(k)"
   ]
  }
 ],
 "metadata": {
  "kernelspec": {
   "display_name": "Python 3",
   "language": "python",
   "name": "python3"
  },
  "language_info": {
   "codemirror_mode": {
    "name": "ipython",
    "version": 3
   },
   "file_extension": ".py",
   "mimetype": "text/x-python",
   "name": "python",
   "nbconvert_exporter": "python",
   "pygments_lexer": "ipython3",
   "version": "3.6.7"
  }
 },
 "nbformat": 4,
 "nbformat_minor": 2
}
